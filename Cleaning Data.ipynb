{
 "cells": [
  {
   "cell_type": "code",
   "execution_count": 1,
   "id": "30774b06-a6c8-4852-9cfb-aa06659c4589",
   "metadata": {},
   "outputs": [],
   "source": [
    "#data wrangling and clean up\n"
   ]
  },
  {
   "cell_type": "code",
   "execution_count": 2,
   "id": "bc32da67-b479-4f0a-8268-0311d8c36b3a",
   "metadata": {},
   "outputs": [],
   "source": [
    "#import libraries\n",
    "import pandas as pd\n",
    "import numpy as np\n",
    "import os\n",
    "from scipy import stats\n",
    "from sklearn.impute import SimpleImputer\n",
    "from sklearn.preprocessing import StandardScaler, OneHotEncoder"
   ]
  },
  {
   "cell_type": "code",
   "execution_count": 3,
   "id": "6ff46d89-19bd-4f76-b3a4-6539664f4287",
   "metadata": {},
   "outputs": [],
   "source": [
    "#load dataset\n",
    "file = 'GoodReads_100k_books.csv'\n",
    "book_data= pd.read_csv(file)"
   ]
  },
  {
   "cell_type": "code",
   "execution_count": 4,
   "id": "5658d33a-e59a-4cc5-a420-b52a036cff21",
   "metadata": {},
   "outputs": [
    {
     "name": "stdout",
     "output_type": "stream",
     "text": [
      "                             author bookformat  \\\n",
      "0              Laurence M. Hauptman  Hardcover   \n",
      "1  Charlotte Fiell,Emmanuelle Dirix  Paperback   \n",
      "2                     Andy Anderson  Paperback   \n",
      "3              Carlotta R. Anderson  Hardcover   \n",
      "4                     Jean Leveille        NaN   \n",
      "\n",
      "                                                desc  \\\n",
      "0  Reveals that several hundred thousand Indians ...   \n",
      "1  Fashion Sourcebook - 1920s is the first book i...   \n",
      "2  The seminal history and analysis of the Hungar...   \n",
      "3  \"All-American Anarchist\" chronicles the life a...   \n",
      "4  Aujourdâ€™hui, lâ€™oiseau nous invite Ã  sa ta...   \n",
      "\n",
      "                                               genre  \\\n",
      "0  History,Military History,Civil War,American Hi...   \n",
      "1          Couture,Fashion,Historical,Art,Nonfiction   \n",
      "2                                   Politics,History   \n",
      "3                                      Labor,History   \n",
      "4                                                NaN   \n",
      "\n",
      "                                                 img        isbn    isbn13  \\\n",
      "0  https://i.gr-assets.com/images/S/compressed.ph...  002914180X  9.78E+12   \n",
      "1  https://i.gr-assets.com/images/S/compressed.ph...  1906863482  9.78E+12   \n",
      "2  https://i.gr-assets.com/images/S/compressed.ph...   948984147  9.78E+12   \n",
      "3  https://i.gr-assets.com/images/S/compressed.ph...   814327079  9.78E+12   \n",
      "4  https://i.gr-assets.com/images/S/compressed.ph...  2761920813       NaN   \n",
      "\n",
      "                                                link  pages  rating  reviews  \\\n",
      "0  https://goodreads.com/book/show/1001053.Betwee...      0    3.52        5   \n",
      "1  https://goodreads.com/book/show/10010552-fashi...    576    4.51        6   \n",
      "2  https://goodreads.com/book/show/1001077.Hungar...    124    4.15        2   \n",
      "3  https://goodreads.com/book/show/1001079.All_Am...    324    3.83        1   \n",
      "4  https://goodreads.com/book/show/10010880-les-o...    177    4.00        1   \n",
      "\n",
      "                                               title  totalratings  \n",
      "0  Between Two Fires: American Indians in the Civ...            33  \n",
      "1                           Fashion Sourcebook 1920s            41  \n",
      "2                                         Hungary 56            26  \n",
      "3  All-American Anarchist: Joseph A. Labadie and ...             6  \n",
      "4                              Les oiseaux gourmands             1  \n",
      "(100000, 13)\n",
      "Index(['author', 'bookformat', 'desc', 'genre', 'img', 'isbn', 'isbn13',\n",
      "       'link', 'pages', 'rating', 'reviews', 'title', 'totalratings'],\n",
      "      dtype='object')\n",
      "<class 'pandas.core.frame.DataFrame'>\n",
      "RangeIndex: 100000 entries, 0 to 99999\n",
      "Data columns (total 13 columns):\n",
      " #   Column        Non-Null Count   Dtype  \n",
      "---  ------        --------------   -----  \n",
      " 0   author        100000 non-null  object \n",
      " 1   bookformat    96772 non-null   object \n",
      " 2   desc          93228 non-null   object \n",
      " 3   genre         89533 non-null   object \n",
      " 4   img           96955 non-null   object \n",
      " 5   isbn          85518 non-null   object \n",
      " 6   isbn13        88565 non-null   object \n",
      " 7   link          100000 non-null  object \n",
      " 8   pages         100000 non-null  int64  \n",
      " 9   rating        100000 non-null  float64\n",
      " 10  reviews       100000 non-null  int64  \n",
      " 11  title         99999 non-null   object \n",
      " 12  totalratings  100000 non-null  int64  \n",
      "dtypes: float64(1), int64(3), object(9)\n",
      "memory usage: 9.9+ MB\n",
      "None\n",
      "             author bookformat  \\\n",
      "count        100000      96772   \n",
      "unique        68767        202   \n",
      "top     Mi-Ri Hwang  Paperback   \n",
      "freq            137      53855   \n",
      "mean            NaN        NaN   \n",
      "std             NaN        NaN   \n",
      "min             NaN        NaN   \n",
      "25%             NaN        NaN   \n",
      "50%             NaN        NaN   \n",
      "75%             NaN        NaN   \n",
      "max             NaN        NaN   \n",
      "\n",
      "                                                     desc       genre  \\\n",
      "count                                               93228       89533   \n",
      "unique                                              92499       72129   \n",
      "top     This scarce antiquarian book is a facsimile re...  Nonfiction   \n",
      "freq                                                   77         486   \n",
      "mean                                                  NaN         NaN   \n",
      "std                                                   NaN         NaN   \n",
      "min                                                   NaN         NaN   \n",
      "25%                                                   NaN         NaN   \n",
      "50%                                                   NaN         NaN   \n",
      "75%                                                   NaN         NaN   \n",
      "max                                                   NaN         NaN   \n",
      "\n",
      "                                                      img        isbn  \\\n",
      "count                                               96955       85518   \n",
      "unique                                              96955       85518   \n",
      "top     https://i.gr-assets.com/images/S/compressed.ph...  002914180X   \n",
      "freq                                                    1           1   \n",
      "mean                                                  NaN         NaN   \n",
      "std                                                   NaN         NaN   \n",
      "min                                                   NaN         NaN   \n",
      "25%                                                   NaN         NaN   \n",
      "50%                                                   NaN         NaN   \n",
      "75%                                                   NaN         NaN   \n",
      "max                                                   NaN         NaN   \n",
      "\n",
      "          isbn13                                               link  \\\n",
      "count      88565                                             100000   \n",
      "unique       725                                             100000   \n",
      "top     9.78E+12  https://goodreads.com/book/show/1001053.Betwee...   \n",
      "freq       49096                                                  1   \n",
      "mean         NaN                                                NaN   \n",
      "std          NaN                                                NaN   \n",
      "min          NaN                                                NaN   \n",
      "25%          NaN                                                NaN   \n",
      "50%          NaN                                                NaN   \n",
      "75%          NaN                                                NaN   \n",
      "max          NaN                                                NaN   \n",
      "\n",
      "                pages         rating        reviews             title  \\\n",
      "count   100000.000000  100000.000000  100000.000000             99999   \n",
      "unique            NaN            NaN            NaN             97588   \n",
      "top               NaN            NaN            NaN  Love in the Mask   \n",
      "freq              NaN            NaN            NaN                32   \n",
      "mean       255.010240       3.833055     181.528450               NaN   \n",
      "std        367.913582       0.621237    1449.451229               NaN   \n",
      "min          0.000000       0.000000       0.000000               NaN   \n",
      "25%        135.000000       3.660000       3.000000               NaN   \n",
      "50%        240.000000       3.910000      15.000000               NaN   \n",
      "75%        336.000000       4.140000      67.000000               NaN   \n",
      "max      70000.000000       5.000000  158776.000000               NaN   \n",
      "\n",
      "        totalratings  \n",
      "count   1.000000e+05  \n",
      "unique           NaN  \n",
      "top              NaN  \n",
      "freq             NaN  \n",
      "mean    2.990764e+03  \n",
      "std     3.635338e+04  \n",
      "min     0.000000e+00  \n",
      "25%     3.100000e+01  \n",
      "50%     1.460000e+02  \n",
      "75%     7.440000e+02  \n",
      "max     3.819326e+06  \n"
     ]
    }
   ],
   "source": [
    "#look at the original data\n",
    "print(book_data.head())\n",
    "print(book_data.shape)\n",
    "print(book_data.columns)\n",
    "print(book_data.info())\n",
    "print(book_data.describe(include='all'))"
   ]
  },
  {
   "cell_type": "code",
   "execution_count": 5,
   "id": "685fdeec-8acc-4844-9188-be55e0856dfa",
   "metadata": {},
   "outputs": [
    {
     "name": "stdout",
     "output_type": "stream",
     "text": [
      "                                               title  \\\n",
      "0  Between Two Fires: American Indians in the Civ...   \n",
      "1                           Fashion Sourcebook 1920s   \n",
      "2                                         Hungary 56   \n",
      "3  All-American Anarchist: Joseph A. Labadie and ...   \n",
      "4                              Les oiseaux gourmands   \n",
      "\n",
      "                             author  \\\n",
      "0              Laurence M. Hauptman   \n",
      "1  Charlotte Fiell,Emmanuelle Dirix   \n",
      "2                     Andy Anderson   \n",
      "3              Carlotta R. Anderson   \n",
      "4                     Jean Leveille   \n",
      "\n",
      "                                                desc  \\\n",
      "0  Reveals that several hundred thousand Indians ...   \n",
      "1  Fashion Sourcebook - 1920s is the first book i...   \n",
      "2  The seminal history and analysis of the Hungar...   \n",
      "3  \"All-American Anarchist\" chronicles the life a...   \n",
      "4  Aujourdâ€™hui, lâ€™oiseau nous invite Ã  sa ta...   \n",
      "\n",
      "                                               genre  rating  \n",
      "0  History,Military History,Civil War,American Hi...    3.52  \n",
      "1          Couture,Fashion,Historical,Art,Nonfiction    4.51  \n",
      "2                                   Politics,History    4.15  \n",
      "3                                      Labor,History    3.83  \n",
      "4                                                NaN    4.00  \n"
     ]
    }
   ],
   "source": [
    "#review columns and drop ones thats are not relavant. Need genre, rating, title and desc for the recommender.\n",
    "book_drop_col=book_data.drop(columns=['bookformat', 'img', 'pages', 'reviews', 'isbn', 'isbn13', 'totalratings', 'link'])\n",
    "\n",
    "#reorder the columns\n",
    "book_reorder=book_drop_col[['title', 'author', 'desc', 'genre', 'rating']]\n",
    "\n",
    "print(book_reorder.head())"
   ]
  },
  {
   "cell_type": "code",
   "execution_count": 6,
   "id": "93916cd6-a745-4f2e-99ee-a3a1f5cf5e23",
   "metadata": {},
   "outputs": [
    {
     "name": "stdout",
     "output_type": "stream",
     "text": [
      "title         1\n",
      "author        0\n",
      "desc       6772\n",
      "genre     10467\n",
      "rating        0\n",
      "dtype: int64\n"
     ]
    }
   ],
   "source": [
    "#look at missing values\n",
    "print(book_reorder.isnull().sum())"
   ]
  },
  {
   "cell_type": "code",
   "execution_count": 7,
   "id": "e0d78857-7627-4644-8bfa-8dac8e3b5ed7",
   "metadata": {},
   "outputs": [],
   "source": [
    "#fill missing desc with 'No description available'\n",
    "book_reorder['desc']=book_reorder['desc'].fillna('No description available.')"
   ]
  },
  {
   "cell_type": "code",
   "execution_count": 8,
   "id": "a41d9cdd-3c6e-4d58-9a2a-4c8389ffb111",
   "metadata": {},
   "outputs": [],
   "source": [
    "#drop missing title or genre as it will not impact our ability to continue\n",
    "book_reorder=book_reorder.dropna(subset=['title', 'genre'])"
   ]
  },
  {
   "cell_type": "code",
   "execution_count": 9,
   "id": "9db74aba-8f05-4419-8aeb-67497644b947",
   "metadata": {},
   "outputs": [],
   "source": [
    "#drop any duplicates if present\n",
    "books_nodup=book_reorder.drop_duplicates()"
   ]
  },
  {
   "cell_type": "code",
   "execution_count": 10,
   "id": "25355071-71ae-4f75-9635-8049e588a29a",
   "metadata": {},
   "outputs": [],
   "source": [
    "#correct data errors in the genre\n",
    "books_nodup.loc[:, 'genre'] = books_nodup['genre'].str.replace('[^a-zA-Z]', ' ', regex=True)\n",
    "books_nodup.loc[:, 'genre'] = books_nodup['genre'].str.lower()"
   ]
  },
  {
   "cell_type": "code",
   "execution_count": 11,
   "id": "4a6042f8-603e-4627-8b09-a86c189a0cf0",
   "metadata": {},
   "outputs": [],
   "source": [
    "#normalize and standarize\n",
    "scaler=StandardScaler()\n",
    "books_nodup.loc[:, 'rating']=scaler.fit_transform(books_nodup[['rating']])"
   ]
  },
  {
   "cell_type": "code",
   "execution_count": 12,
   "id": "68c1000f-a9f0-4e63-9e16-2b7ea540c627",
   "metadata": {},
   "outputs": [],
   "source": [
    "#save as a csv for next portion\n",
    "books_nodup.to_csv('books_nodup.csv', index=False)"
   ]
  }
 ],
 "metadata": {
  "kernelspec": {
   "display_name": "Python 3 (ipykernel)",
   "language": "python",
   "name": "python3"
  },
  "language_info": {
   "codemirror_mode": {
    "name": "ipython",
    "version": 3
   },
   "file_extension": ".py",
   "mimetype": "text/x-python",
   "name": "python",
   "nbconvert_exporter": "python",
   "pygments_lexer": "ipython3",
   "version": "3.12.4"
  }
 },
 "nbformat": 4,
 "nbformat_minor": 5
}

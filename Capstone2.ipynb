{
 "cells": [
  {
   "cell_type": "code",
   "execution_count": 1,
   "id": "4199dcb2",
   "metadata": {},
   "outputs": [],
   "source": [
    "#Data Wrangling for book recommendation system to be used by Kindle or Goodreads"
   ]
  },
  {
   "cell_type": "code",
   "execution_count": 1,
   "id": "29f4c959",
   "metadata": {},
   "outputs": [],
   "source": [
    "#import pandas, matplotlib.pyplot, seaborn, datetime\n",
    "import pandas as pd\n",
    "import numpy as np\n",
    "import matplotlib.pyplot as plt\n",
    "import seaborn as sns\n",
    "import datetime\n",
    "import os"
   ]
  },
  {
   "cell_type": "code",
   "execution_count": 2,
   "id": "5a047165",
   "metadata": {},
   "outputs": [],
   "source": [
    "#load data file\n",
    "file = 'GoodReads_100k_books.csv'\n",
    "book_data= pd.read_csv(file)"
   ]
  },
  {
   "cell_type": "code",
   "execution_count": 3,
   "id": "76eb258a",
   "metadata": {},
   "outputs": [
    {
     "data": {
      "text/plain": [
       "<bound method DataFrame.info of                                                   author bookformat  \\\n",
       "0                                   Laurence M. Hauptman  Hardcover   \n",
       "1                       Charlotte Fiell,Emmanuelle Dirix  Paperback   \n",
       "2                                          Andy Anderson  Paperback   \n",
       "3                                   Carlotta R. Anderson  Hardcover   \n",
       "4                                          Jean Leveille        NaN   \n",
       "...                                                  ...        ...   \n",
       "99995                                         Simon Monk      ebook   \n",
       "99996  Tracie L. Miller-Nobles,Brenda L. Mattison,Ell...  Hardcover   \n",
       "99997                                     C. John Miller  Paperback   \n",
       "99998                                      Albert Marrin  Hardcover   \n",
       "99999                                      Marc E. Fitch      ebook   \n",
       "\n",
       "                                                    desc  \\\n",
       "0      Reveals that several hundred thousand Indians ...   \n",
       "1      Fashion Sourcebook - 1920s is the first book i...   \n",
       "2      The seminal history and analysis of the Hungar...   \n",
       "3      \"All-American Anarchist\" chronicles the life a...   \n",
       "4      Aujourdâ€™hui, lâ€™oiseau nous invite Ã  sa ta...   \n",
       "...                                                  ...   \n",
       "99995  Design custom printed circuit boards with EAGL...   \n",
       "99996  Redefining tradition in learning accounting. ,...   \n",
       "99997  In these warm reflections on his own growth as...   \n",
       "99998  John Brown is a man of many legacies, from her...   \n",
       "99999  Did you know that interest in UFO research inc...   \n",
       "\n",
       "                                                   genre  \\\n",
       "0      History,Military History,Civil War,American Hi...   \n",
       "1              Couture,Fashion,Historical,Art,Nonfiction   \n",
       "2                                       Politics,History   \n",
       "3                                          Labor,History   \n",
       "4                                                    NaN   \n",
       "...                                                  ...   \n",
       "99995                                                NaN   \n",
       "99996                                                NaN   \n",
       "99997  Christianity,Evangelism,Christian,Religion,The...   \n",
       "99998  Nonfiction,History,Biography,Military History,...   \n",
       "99999                      Fantasy,Paranormal,Nonfiction   \n",
       "\n",
       "                                                     img        isbn  \\\n",
       "0      https://i.gr-assets.com/images/S/compressed.ph...  002914180X   \n",
       "1      https://i.gr-assets.com/images/S/compressed.ph...  1906863482   \n",
       "2      https://i.gr-assets.com/images/S/compressed.ph...   948984147   \n",
       "3      https://i.gr-assets.com/images/S/compressed.ph...   814327079   \n",
       "4      https://i.gr-assets.com/images/S/compressed.ph...  2761920813   \n",
       "...                                                  ...         ...   \n",
       "99995  https://i.gr-assets.com/images/S/compressed.ph...    71819266   \n",
       "99996  https://i.gr-assets.com/images/S/compressed.ph...   133251241   \n",
       "99997  https://i.gr-assets.com/images/S/compressed.ph...   875523919   \n",
       "99998  https://i.gr-assets.com/images/S/compressed.ph...   307981533   \n",
       "99999  https://i.gr-assets.com/images/S/compressed.ph...   313382077   \n",
       "\n",
       "            isbn13                                               link  pages  \\\n",
       "0         9.78E+12  https://goodreads.com/book/show/1001053.Betwee...      0   \n",
       "1         9.78E+12  https://goodreads.com/book/show/10010552-fashi...    576   \n",
       "2         9.78E+12  https://goodreads.com/book/show/1001077.Hungar...    124   \n",
       "3         9.78E+12  https://goodreads.com/book/show/1001079.All_Am...    324   \n",
       "4              NaN  https://goodreads.com/book/show/10010880-les-o...    177   \n",
       "...            ...                                                ...    ...   \n",
       "99995  9.78007E+12  https://goodreads.com/book/show/17320181-make-...    304   \n",
       "99996  9.78013E+12  https://goodreads.com/book/show/17320260-horng...   1645   \n",
       "99997  9.78088E+12  https://goodreads.com/book/show/173203.A_Faith...    160   \n",
       "99998  9.78031E+12  https://goodreads.com/book/show/17320669-a-vol...    256   \n",
       "99999  9.78031E+12  https://goodreads.com/book/show/17320689-paran...    398   \n",
       "\n",
       "       rating  reviews                                              title  \\\n",
       "0        3.52        5  Between Two Fires: American Indians in the Civ...   \n",
       "1        4.51        6                           Fashion Sourcebook 1920s   \n",
       "2        4.15        2                                         Hungary 56   \n",
       "3        3.83        1  All-American Anarchist: Joseph A. Labadie and ...   \n",
       "4        4.00        1                              Les oiseaux gourmands   \n",
       "...       ...      ...                                                ...   \n",
       "99995    4.07        7  Make Your Own PCBs with Eagle: From Schematic ...   \n",
       "99996    4.05        1       Horngren's Financial & Managerial Accounting   \n",
       "99997    4.27       20  A Faith Worth Sharing: A Lifetime of Conversat...   \n",
       "99998    3.63       51  A Volcano Beneath the Snow: John Brown's War A...   \n",
       "99999    3.83        3  Paranormal Nation: Why America Needs Ghosts, U...   \n",
       "\n",
       "       totalratings  \n",
       "0                33  \n",
       "1                41  \n",
       "2                26  \n",
       "3                 6  \n",
       "4                 1  \n",
       "...             ...  \n",
       "99995            56  \n",
       "99996            38  \n",
       "99997           122  \n",
       "99998           156  \n",
       "99999            12  \n",
       "\n",
       "[100000 rows x 13 columns]>"
      ]
     },
     "execution_count": 3,
     "metadata": {},
     "output_type": "execute_result"
    }
   ],
   "source": [
    "#call info on book_data\n",
    "book_data.info"
   ]
  },
  {
   "cell_type": "code",
   "execution_count": 4,
   "id": "0b9ea9af",
   "metadata": {},
   "outputs": [
    {
     "data": {
      "text/html": [
       "<div>\n",
       "<style scoped>\n",
       "    .dataframe tbody tr th:only-of-type {\n",
       "        vertical-align: middle;\n",
       "    }\n",
       "\n",
       "    .dataframe tbody tr th {\n",
       "        vertical-align: top;\n",
       "    }\n",
       "\n",
       "    .dataframe thead th {\n",
       "        text-align: right;\n",
       "    }\n",
       "</style>\n",
       "<table border=\"1\" class=\"dataframe\">\n",
       "  <thead>\n",
       "    <tr style=\"text-align: right;\">\n",
       "      <th></th>\n",
       "      <th>author</th>\n",
       "      <th>bookformat</th>\n",
       "      <th>desc</th>\n",
       "      <th>genre</th>\n",
       "      <th>img</th>\n",
       "      <th>isbn</th>\n",
       "      <th>isbn13</th>\n",
       "      <th>link</th>\n",
       "      <th>pages</th>\n",
       "      <th>rating</th>\n",
       "      <th>reviews</th>\n",
       "      <th>title</th>\n",
       "      <th>totalratings</th>\n",
       "    </tr>\n",
       "  </thead>\n",
       "  <tbody>\n",
       "    <tr>\n",
       "      <th>0</th>\n",
       "      <td>Laurence M. Hauptman</td>\n",
       "      <td>Hardcover</td>\n",
       "      <td>Reveals that several hundred thousand Indians ...</td>\n",
       "      <td>History,Military History,Civil War,American Hi...</td>\n",
       "      <td>https://i.gr-assets.com/images/S/compressed.ph...</td>\n",
       "      <td>002914180X</td>\n",
       "      <td>9.78E+12</td>\n",
       "      <td>https://goodreads.com/book/show/1001053.Betwee...</td>\n",
       "      <td>0</td>\n",
       "      <td>3.52</td>\n",
       "      <td>5</td>\n",
       "      <td>Between Two Fires: American Indians in the Civ...</td>\n",
       "      <td>33</td>\n",
       "    </tr>\n",
       "    <tr>\n",
       "      <th>1</th>\n",
       "      <td>Charlotte Fiell,Emmanuelle Dirix</td>\n",
       "      <td>Paperback</td>\n",
       "      <td>Fashion Sourcebook - 1920s is the first book i...</td>\n",
       "      <td>Couture,Fashion,Historical,Art,Nonfiction</td>\n",
       "      <td>https://i.gr-assets.com/images/S/compressed.ph...</td>\n",
       "      <td>1906863482</td>\n",
       "      <td>9.78E+12</td>\n",
       "      <td>https://goodreads.com/book/show/10010552-fashi...</td>\n",
       "      <td>576</td>\n",
       "      <td>4.51</td>\n",
       "      <td>6</td>\n",
       "      <td>Fashion Sourcebook 1920s</td>\n",
       "      <td>41</td>\n",
       "    </tr>\n",
       "    <tr>\n",
       "      <th>2</th>\n",
       "      <td>Andy Anderson</td>\n",
       "      <td>Paperback</td>\n",
       "      <td>The seminal history and analysis of the Hungar...</td>\n",
       "      <td>Politics,History</td>\n",
       "      <td>https://i.gr-assets.com/images/S/compressed.ph...</td>\n",
       "      <td>948984147</td>\n",
       "      <td>9.78E+12</td>\n",
       "      <td>https://goodreads.com/book/show/1001077.Hungar...</td>\n",
       "      <td>124</td>\n",
       "      <td>4.15</td>\n",
       "      <td>2</td>\n",
       "      <td>Hungary 56</td>\n",
       "      <td>26</td>\n",
       "    </tr>\n",
       "  </tbody>\n",
       "</table>\n",
       "</div>"
      ],
      "text/plain": [
       "                             author bookformat  \\\n",
       "0              Laurence M. Hauptman  Hardcover   \n",
       "1  Charlotte Fiell,Emmanuelle Dirix  Paperback   \n",
       "2                     Andy Anderson  Paperback   \n",
       "\n",
       "                                                desc  \\\n",
       "0  Reveals that several hundred thousand Indians ...   \n",
       "1  Fashion Sourcebook - 1920s is the first book i...   \n",
       "2  The seminal history and analysis of the Hungar...   \n",
       "\n",
       "                                               genre  \\\n",
       "0  History,Military History,Civil War,American Hi...   \n",
       "1          Couture,Fashion,Historical,Art,Nonfiction   \n",
       "2                                   Politics,History   \n",
       "\n",
       "                                                 img        isbn    isbn13  \\\n",
       "0  https://i.gr-assets.com/images/S/compressed.ph...  002914180X  9.78E+12   \n",
       "1  https://i.gr-assets.com/images/S/compressed.ph...  1906863482  9.78E+12   \n",
       "2  https://i.gr-assets.com/images/S/compressed.ph...   948984147  9.78E+12   \n",
       "\n",
       "                                                link  pages  rating  reviews  \\\n",
       "0  https://goodreads.com/book/show/1001053.Betwee...      0    3.52        5   \n",
       "1  https://goodreads.com/book/show/10010552-fashi...    576    4.51        6   \n",
       "2  https://goodreads.com/book/show/1001077.Hungar...    124    4.15        2   \n",
       "\n",
       "                                               title  totalratings  \n",
       "0  Between Two Fires: American Indians in the Civ...            33  \n",
       "1                           Fashion Sourcebook 1920s            41  \n",
       "2                                         Hungary 56            26  "
      ]
     },
     "execution_count": 4,
     "metadata": {},
     "output_type": "execute_result"
    }
   ],
   "source": [
    "#look at the head of the file\n",
    "book_data.head(3)"
   ]
  },
  {
   "cell_type": "code",
   "execution_count": 5,
   "id": "c4940028",
   "metadata": {},
   "outputs": [
    {
     "data": {
      "text/html": [
       "<div>\n",
       "<style scoped>\n",
       "    .dataframe tbody tr th:only-of-type {\n",
       "        vertical-align: middle;\n",
       "    }\n",
       "\n",
       "    .dataframe tbody tr th {\n",
       "        vertical-align: top;\n",
       "    }\n",
       "\n",
       "    .dataframe thead th {\n",
       "        text-align: right;\n",
       "    }\n",
       "</style>\n",
       "<table border=\"1\" class=\"dataframe\">\n",
       "  <thead>\n",
       "    <tr style=\"text-align: right;\">\n",
       "      <th></th>\n",
       "      <th>author</th>\n",
       "      <th>desc</th>\n",
       "      <th>genre</th>\n",
       "      <th>link</th>\n",
       "      <th>rating</th>\n",
       "      <th>title</th>\n",
       "      <th>totalratings</th>\n",
       "    </tr>\n",
       "  </thead>\n",
       "  <tbody>\n",
       "    <tr>\n",
       "      <th>0</th>\n",
       "      <td>Laurence M. Hauptman</td>\n",
       "      <td>Reveals that several hundred thousand Indians ...</td>\n",
       "      <td>History,Military History,Civil War,American Hi...</td>\n",
       "      <td>https://goodreads.com/book/show/1001053.Betwee...</td>\n",
       "      <td>3.52</td>\n",
       "      <td>Between Two Fires: American Indians in the Civ...</td>\n",
       "      <td>33</td>\n",
       "    </tr>\n",
       "    <tr>\n",
       "      <th>1</th>\n",
       "      <td>Charlotte Fiell,Emmanuelle Dirix</td>\n",
       "      <td>Fashion Sourcebook - 1920s is the first book i...</td>\n",
       "      <td>Couture,Fashion,Historical,Art,Nonfiction</td>\n",
       "      <td>https://goodreads.com/book/show/10010552-fashi...</td>\n",
       "      <td>4.51</td>\n",
       "      <td>Fashion Sourcebook 1920s</td>\n",
       "      <td>41</td>\n",
       "    </tr>\n",
       "    <tr>\n",
       "      <th>2</th>\n",
       "      <td>Andy Anderson</td>\n",
       "      <td>The seminal history and analysis of the Hungar...</td>\n",
       "      <td>Politics,History</td>\n",
       "      <td>https://goodreads.com/book/show/1001077.Hungar...</td>\n",
       "      <td>4.15</td>\n",
       "      <td>Hungary 56</td>\n",
       "      <td>26</td>\n",
       "    </tr>\n",
       "  </tbody>\n",
       "</table>\n",
       "</div>"
      ],
      "text/plain": [
       "                             author  \\\n",
       "0              Laurence M. Hauptman   \n",
       "1  Charlotte Fiell,Emmanuelle Dirix   \n",
       "2                     Andy Anderson   \n",
       "\n",
       "                                                desc  \\\n",
       "0  Reveals that several hundred thousand Indians ...   \n",
       "1  Fashion Sourcebook - 1920s is the first book i...   \n",
       "2  The seminal history and analysis of the Hungar...   \n",
       "\n",
       "                                               genre  \\\n",
       "0  History,Military History,Civil War,American Hi...   \n",
       "1          Couture,Fashion,Historical,Art,Nonfiction   \n",
       "2                                   Politics,History   \n",
       "\n",
       "                                                link  rating  \\\n",
       "0  https://goodreads.com/book/show/1001053.Betwee...    3.52   \n",
       "1  https://goodreads.com/book/show/10010552-fashi...    4.51   \n",
       "2  https://goodreads.com/book/show/1001077.Hungar...    4.15   \n",
       "\n",
       "                                               title  totalratings  \n",
       "0  Between Two Fires: American Indians in the Civ...            33  \n",
       "1                           Fashion Sourcebook 1920s            41  \n",
       "2                                         Hungary 56            26  "
      ]
     },
     "execution_count": 5,
     "metadata": {},
     "output_type": "execute_result"
    }
   ],
   "source": [
    "#review relevance of columns for recommendations. Keep Author, Genre, desc, Rating, Title, total ratings and link\n",
    "book_rategen = book_data.drop(columns= ['bookformat','img','pages','reviews','isbn','isbn13'])\n",
    "book_rategen.head(3)"
   ]
  },
  {
   "cell_type": "code",
   "execution_count": 6,
   "id": "6907205b",
   "metadata": {},
   "outputs": [
    {
     "data": {
      "text/html": [
       "<div>\n",
       "<style scoped>\n",
       "    .dataframe tbody tr th:only-of-type {\n",
       "        vertical-align: middle;\n",
       "    }\n",
       "\n",
       "    .dataframe tbody tr th {\n",
       "        vertical-align: top;\n",
       "    }\n",
       "\n",
       "    .dataframe thead th {\n",
       "        text-align: right;\n",
       "    }\n",
       "</style>\n",
       "<table border=\"1\" class=\"dataframe\">\n",
       "  <thead>\n",
       "    <tr style=\"text-align: right;\">\n",
       "      <th></th>\n",
       "      <th>title</th>\n",
       "      <th>author</th>\n",
       "      <th>desc</th>\n",
       "      <th>genre</th>\n",
       "      <th>rating</th>\n",
       "      <th>totalratings</th>\n",
       "      <th>link</th>\n",
       "    </tr>\n",
       "  </thead>\n",
       "  <tbody>\n",
       "    <tr>\n",
       "      <th>0</th>\n",
       "      <td>Between Two Fires: American Indians in the Civ...</td>\n",
       "      <td>Laurence M. Hauptman</td>\n",
       "      <td>Reveals that several hundred thousand Indians ...</td>\n",
       "      <td>History,Military History,Civil War,American Hi...</td>\n",
       "      <td>3.52</td>\n",
       "      <td>33</td>\n",
       "      <td>https://goodreads.com/book/show/1001053.Betwee...</td>\n",
       "    </tr>\n",
       "    <tr>\n",
       "      <th>1</th>\n",
       "      <td>Fashion Sourcebook 1920s</td>\n",
       "      <td>Charlotte Fiell,Emmanuelle Dirix</td>\n",
       "      <td>Fashion Sourcebook - 1920s is the first book i...</td>\n",
       "      <td>Couture,Fashion,Historical,Art,Nonfiction</td>\n",
       "      <td>4.51</td>\n",
       "      <td>41</td>\n",
       "      <td>https://goodreads.com/book/show/10010552-fashi...</td>\n",
       "    </tr>\n",
       "    <tr>\n",
       "      <th>2</th>\n",
       "      <td>Hungary 56</td>\n",
       "      <td>Andy Anderson</td>\n",
       "      <td>The seminal history and analysis of the Hungar...</td>\n",
       "      <td>Politics,History</td>\n",
       "      <td>4.15</td>\n",
       "      <td>26</td>\n",
       "      <td>https://goodreads.com/book/show/1001077.Hungar...</td>\n",
       "    </tr>\n",
       "  </tbody>\n",
       "</table>\n",
       "</div>"
      ],
      "text/plain": [
       "                                               title  \\\n",
       "0  Between Two Fires: American Indians in the Civ...   \n",
       "1                           Fashion Sourcebook 1920s   \n",
       "2                                         Hungary 56   \n",
       "\n",
       "                             author  \\\n",
       "0              Laurence M. Hauptman   \n",
       "1  Charlotte Fiell,Emmanuelle Dirix   \n",
       "2                     Andy Anderson   \n",
       "\n",
       "                                                desc  \\\n",
       "0  Reveals that several hundred thousand Indians ...   \n",
       "1  Fashion Sourcebook - 1920s is the first book i...   \n",
       "2  The seminal history and analysis of the Hungar...   \n",
       "\n",
       "                                               genre  rating  totalratings  \\\n",
       "0  History,Military History,Civil War,American Hi...    3.52            33   \n",
       "1          Couture,Fashion,Historical,Art,Nonfiction    4.51            41   \n",
       "2                                   Politics,History    4.15            26   \n",
       "\n",
       "                                                link  \n",
       "0  https://goodreads.com/book/show/1001053.Betwee...  \n",
       "1  https://goodreads.com/book/show/10010552-fashi...  \n",
       "2  https://goodreads.com/book/show/1001077.Hungar...  "
      ]
     },
     "execution_count": 6,
     "metadata": {},
     "output_type": "execute_result"
    }
   ],
   "source": [
    "#reorder columns\n",
    "book_rategen=book_rategen[['title', 'author', 'desc', 'genre', 'rating', 'totalratings', 'link']]\n",
    "book_rategen.head(3)"
   ]
  },
  {
   "cell_type": "code",
   "execution_count": 7,
   "id": "ba9b41ed",
   "metadata": {
    "scrolled": true
   },
   "outputs": [
    {
     "data": {
      "text/html": [
       "<div>\n",
       "<style scoped>\n",
       "    .dataframe tbody tr th:only-of-type {\n",
       "        vertical-align: middle;\n",
       "    }\n",
       "\n",
       "    .dataframe tbody tr th {\n",
       "        vertical-align: top;\n",
       "    }\n",
       "\n",
       "    .dataframe thead th {\n",
       "        text-align: right;\n",
       "    }\n",
       "</style>\n",
       "<table border=\"1\" class=\"dataframe\">\n",
       "  <thead>\n",
       "    <tr style=\"text-align: right;\">\n",
       "      <th></th>\n",
       "      <th>count</th>\n",
       "      <th>%</th>\n",
       "    </tr>\n",
       "  </thead>\n",
       "  <tbody>\n",
       "    <tr>\n",
       "      <th>author</th>\n",
       "      <td>0</td>\n",
       "      <td>0.000</td>\n",
       "    </tr>\n",
       "    <tr>\n",
       "      <th>rating</th>\n",
       "      <td>0</td>\n",
       "      <td>0.000</td>\n",
       "    </tr>\n",
       "    <tr>\n",
       "      <th>totalratings</th>\n",
       "      <td>0</td>\n",
       "      <td>0.000</td>\n",
       "    </tr>\n",
       "    <tr>\n",
       "      <th>link</th>\n",
       "      <td>0</td>\n",
       "      <td>0.000</td>\n",
       "    </tr>\n",
       "    <tr>\n",
       "      <th>title</th>\n",
       "      <td>1</td>\n",
       "      <td>0.001</td>\n",
       "    </tr>\n",
       "    <tr>\n",
       "      <th>desc</th>\n",
       "      <td>6772</td>\n",
       "      <td>6.772</td>\n",
       "    </tr>\n",
       "    <tr>\n",
       "      <th>genre</th>\n",
       "      <td>10467</td>\n",
       "      <td>10.467</td>\n",
       "    </tr>\n",
       "  </tbody>\n",
       "</table>\n",
       "</div>"
      ],
      "text/plain": [
       "              count       %\n",
       "author            0   0.000\n",
       "rating            0   0.000\n",
       "totalratings      0   0.000\n",
       "link              0   0.000\n",
       "title             1   0.001\n",
       "desc           6772   6.772\n",
       "genre         10467  10.467"
      ]
     },
     "execution_count": 7,
     "metadata": {},
     "output_type": "execute_result"
    }
   ],
   "source": [
    "#count and order missing data and datatype\n",
    "missing_data= pd.concat([book_rategen.isnull().sum(), 100* book_rategen.isnull().mean()], axis=1)\n",
    "missing_data.columns= ['count', '%']\n",
    "missing_data.sort_values(by='count')"
   ]
  },
  {
   "cell_type": "code",
   "execution_count": 8,
   "id": "63448284",
   "metadata": {},
   "outputs": [
    {
     "data": {
      "text/plain": [
       "title            object\n",
       "author           object\n",
       "desc             object\n",
       "genre            object\n",
       "rating          float64\n",
       "totalratings      int64\n",
       "link             object\n",
       "dtype: object"
      ]
     },
     "execution_count": 8,
     "metadata": {},
     "output_type": "execute_result"
    }
   ],
   "source": [
    "#review data types\n",
    "book_rategen.dtypes"
   ]
  },
  {
   "cell_type": "code",
   "execution_count": 9,
   "id": "a1595f51",
   "metadata": {},
   "outputs": [],
   "source": [
    "#drop blank title \n",
    "book_rategen=book_rategen.dropna(subset=['title'])\n"
   ]
  },
  {
   "cell_type": "code",
   "execution_count": 10,
   "id": "5e7e2cae",
   "metadata": {},
   "outputs": [
    {
     "name": "stdout",
     "output_type": "stream",
     "text": [
      "title               0\n",
      "author              0\n",
      "desc             6771\n",
      "genre           10467\n",
      "rating              0\n",
      "totalratings        0\n",
      "link                0\n",
      "dtype: int64\n"
     ]
    }
   ],
   "source": [
    "#review for more missing data\n",
    "missing_data2= book_rategen.isnull().sum()\n",
    "print(missing_data2)"
   ]
  },
  {
   "cell_type": "code",
   "execution_count": 11,
   "id": "8631191e",
   "metadata": {},
   "outputs": [
    {
     "name": "stdout",
     "output_type": "stream",
     "text": [
      "title           0\n",
      "author          0\n",
      "desc            0\n",
      "genre           0\n",
      "rating          0\n",
      "totalratings    0\n",
      "link            0\n",
      "dtype: int64\n"
     ]
    }
   ],
   "source": [
    "#fill missing values\n",
    "book_rategen.fillna(value='Not Provided', inplace=True)\n",
    "print(book_rategen.isnull().sum())"
   ]
  },
  {
   "cell_type": "code",
   "execution_count": 12,
   "id": "0fbe4e29",
   "metadata": {},
   "outputs": [
    {
     "data": {
      "text/plain": [
       "title\n",
       "Love in the Mask    32\n",
       "Selected Poems      22\n",
       "Cinderella          13\n",
       "Redemption          11\n",
       "Coming Home         11\n",
       "Name: count, dtype: int64"
      ]
     },
     "execution_count": 12,
     "metadata": {},
     "output_type": "execute_result"
    }
   ],
   "source": [
    "book_rategen['title'].value_counts().head()"
   ]
  },
  {
   "cell_type": "code",
   "execution_count": 13,
   "id": "460569dc",
   "metadata": {},
   "outputs": [
    {
     "data": {
      "text/html": [
       "<div>\n",
       "<style scoped>\n",
       "    .dataframe tbody tr th:only-of-type {\n",
       "        vertical-align: middle;\n",
       "    }\n",
       "\n",
       "    .dataframe tbody tr th {\n",
       "        vertical-align: top;\n",
       "    }\n",
       "\n",
       "    .dataframe thead th {\n",
       "        text-align: right;\n",
       "    }\n",
       "</style>\n",
       "<table border=\"1\" class=\"dataframe\">\n",
       "  <thead>\n",
       "    <tr style=\"text-align: right;\">\n",
       "      <th></th>\n",
       "      <th>rating</th>\n",
       "      <th>totalratings</th>\n",
       "    </tr>\n",
       "  </thead>\n",
       "  <tbody>\n",
       "    <tr>\n",
       "      <th>count</th>\n",
       "      <td>99999.000000</td>\n",
       "      <td>9.999900e+04</td>\n",
       "    </tr>\n",
       "    <tr>\n",
       "      <th>mean</th>\n",
       "      <td>3.833060</td>\n",
       "      <td>2.990794e+03</td>\n",
       "    </tr>\n",
       "    <tr>\n",
       "      <th>std</th>\n",
       "      <td>0.621239</td>\n",
       "      <td>3.635356e+04</td>\n",
       "    </tr>\n",
       "    <tr>\n",
       "      <th>min</th>\n",
       "      <td>0.000000</td>\n",
       "      <td>0.000000e+00</td>\n",
       "    </tr>\n",
       "    <tr>\n",
       "      <th>25%</th>\n",
       "      <td>3.660000</td>\n",
       "      <td>3.100000e+01</td>\n",
       "    </tr>\n",
       "    <tr>\n",
       "      <th>50%</th>\n",
       "      <td>3.910000</td>\n",
       "      <td>1.460000e+02</td>\n",
       "    </tr>\n",
       "    <tr>\n",
       "      <th>75%</th>\n",
       "      <td>4.140000</td>\n",
       "      <td>7.440000e+02</td>\n",
       "    </tr>\n",
       "    <tr>\n",
       "      <th>max</th>\n",
       "      <td>5.000000</td>\n",
       "      <td>3.819326e+06</td>\n",
       "    </tr>\n",
       "  </tbody>\n",
       "</table>\n",
       "</div>"
      ],
      "text/plain": [
       "             rating  totalratings\n",
       "count  99999.000000  9.999900e+04\n",
       "mean       3.833060  2.990794e+03\n",
       "std        0.621239  3.635356e+04\n",
       "min        0.000000  0.000000e+00\n",
       "25%        3.660000  3.100000e+01\n",
       "50%        3.910000  1.460000e+02\n",
       "75%        4.140000  7.440000e+02\n",
       "max        5.000000  3.819326e+06"
      ]
     },
     "execution_count": 13,
     "metadata": {},
     "output_type": "execute_result"
    }
   ],
   "source": [
    "book_rategen.describe()"
   ]
  },
  {
   "cell_type": "code",
   "execution_count": 14,
   "id": "163c04a6",
   "metadata": {},
   "outputs": [
    {
     "data": {
      "text/plain": [
       "<bound method DataFrame.nunique of                                                    title  \\\n",
       "0      Between Two Fires: American Indians in the Civ...   \n",
       "1                               Fashion Sourcebook 1920s   \n",
       "2                                             Hungary 56   \n",
       "3      All-American Anarchist: Joseph A. Labadie and ...   \n",
       "4                                  Les oiseaux gourmands   \n",
       "...                                                  ...   \n",
       "99995  Make Your Own PCBs with Eagle: From Schematic ...   \n",
       "99996       Horngren's Financial & Managerial Accounting   \n",
       "99997  A Faith Worth Sharing: A Lifetime of Conversat...   \n",
       "99998  A Volcano Beneath the Snow: John Brown's War A...   \n",
       "99999  Paranormal Nation: Why America Needs Ghosts, U...   \n",
       "\n",
       "                                                  author  \n",
       "0                                   Laurence M. Hauptman  \n",
       "1                       Charlotte Fiell,Emmanuelle Dirix  \n",
       "2                                          Andy Anderson  \n",
       "3                                   Carlotta R. Anderson  \n",
       "4                                          Jean Leveille  \n",
       "...                                                  ...  \n",
       "99995                                         Simon Monk  \n",
       "99996  Tracie L. Miller-Nobles,Brenda L. Mattison,Ell...  \n",
       "99997                                     C. John Miller  \n",
       "99998                                      Albert Marrin  \n",
       "99999                                      Marc E. Fitch  \n",
       "\n",
       "[99999 rows x 2 columns]>"
      ]
     },
     "execution_count": 14,
     "metadata": {},
     "output_type": "execute_result"
    }
   ],
   "source": [
    "book_rategen[['title','author']].nunique"
   ]
  },
  {
   "cell_type": "code",
   "execution_count": 15,
   "id": "ab1cc530",
   "metadata": {},
   "outputs": [
    {
     "data": {
      "text/html": [
       "<div>\n",
       "<style scoped>\n",
       "    .dataframe tbody tr th:only-of-type {\n",
       "        vertical-align: middle;\n",
       "    }\n",
       "\n",
       "    .dataframe tbody tr th {\n",
       "        vertical-align: top;\n",
       "    }\n",
       "\n",
       "    .dataframe thead th {\n",
       "        text-align: right;\n",
       "    }\n",
       "</style>\n",
       "<table border=\"1\" class=\"dataframe\">\n",
       "  <thead>\n",
       "    <tr style=\"text-align: right;\">\n",
       "      <th></th>\n",
       "      <th></th>\n",
       "      <th>desc</th>\n",
       "      <th>genre</th>\n",
       "      <th>rating</th>\n",
       "      <th>totalratings</th>\n",
       "      <th>link</th>\n",
       "    </tr>\n",
       "    <tr>\n",
       "      <th>title</th>\n",
       "      <th>author</th>\n",
       "      <th></th>\n",
       "      <th></th>\n",
       "      <th></th>\n",
       "      <th></th>\n",
       "      <th></th>\n",
       "    </tr>\n",
       "  </thead>\n",
       "  <tbody>\n",
       "    <tr>\n",
       "      <th>\"Any Grooming Hints for Your Fans, Rollie?\"</th>\n",
       "      <th>G.B. Trudeau</th>\n",
       "      <td>Not Provided</td>\n",
       "      <td>Humor,Sequential Art,Comics,Sequential Art,Car...</td>\n",
       "      <td>4.00</td>\n",
       "      <td>77</td>\n",
       "      <td>https://goodreads.com/book/show/1118756._Any_G...</td>\n",
       "    </tr>\n",
       "    <tr>\n",
       "      <th>\"Daisuki.\"</th>\n",
       "      <th>Hildred Billings</th>\n",
       "      <td>Aiko and Reina have been together for almost 2...</td>\n",
       "      <td>LGBT,Lesbian,Adult Fiction,Erotica,LGBT,Adult,...</td>\n",
       "      <td>3.77</td>\n",
       "      <td>73</td>\n",
       "      <td>https://goodreads.com/book/show/17183771-daisuki</td>\n",
       "    </tr>\n",
       "    <tr>\n",
       "      <th>\"Dark Pictures\" and Other Stories</th>\n",
       "      <th>Hiroshi Noma</th>\n",
       "      <td>The short stories that Noma Hiroshi produced i...</td>\n",
       "      <td>Asian Literature,Japanese Literature,Fiction,C...</td>\n",
       "      <td>3.60</td>\n",
       "      <td>10</td>\n",
       "      <td>https://goodreads.com/book/show/1128118._Dark_...</td>\n",
       "    </tr>\n",
       "    <tr>\n",
       "      <th>\"Defects\": Engendering the Modern Body</th>\n",
       "      <th>Helen Elizabeth Deutsch,Helen Elizabeth Deutsch</th>\n",
       "      <td>\"Defects\", brings together essays on the emerg...</td>\n",
       "      <td>Disability</td>\n",
       "      <td>4.50</td>\n",
       "      <td>4</td>\n",
       "      <td>https://goodreads.com/book/show/1304197._Defects_</td>\n",
       "    </tr>\n",
       "    <tr>\n",
       "      <th>\"Financial Times\" Mastering Marketing</th>\n",
       "      <th>Tim Dickson</th>\n",
       "      <td>The ultimate book for anyone involved or belie...</td>\n",
       "      <td>Not Provided</td>\n",
       "      <td>3.00</td>\n",
       "      <td>5</td>\n",
       "      <td>https://goodreads.com/book/show/1606558._Finan...</td>\n",
       "    </tr>\n",
       "    <tr>\n",
       "      <th>...</th>\n",
       "      <th>...</th>\n",
       "      <td>...</td>\n",
       "      <td>...</td>\n",
       "      <td>...</td>\n",
       "      <td>...</td>\n",
       "      <td>...</td>\n",
       "    </tr>\n",
       "    <tr>\n",
       "      <th>íí‹°ë³´ì´ 7</th>\n",
       "      <th>Mi-Ri Hwang</th>\n",
       "      <td>Not Provided</td>\n",
       "      <td>Sequential Art,Manga,Manga,Manhwa,Romance,Mang...</td>\n",
       "      <td>3.87</td>\n",
       "      <td>134</td>\n",
       "      <td>https://goodreads.com/book/show/11513269-7</td>\n",
       "    </tr>\n",
       "    <tr>\n",
       "      <th>íí‹°ë³´ì´ 8</th>\n",
       "      <th>Mi-Ri Hwang</th>\n",
       "      <td>Not Provided</td>\n",
       "      <td>Sequential Art,Manga,Manga,Manhwa,Romance,Mang...</td>\n",
       "      <td>3.87</td>\n",
       "      <td>133</td>\n",
       "      <td>https://goodreads.com/book/show/11513302-8</td>\n",
       "    </tr>\n",
       "    <tr>\n",
       "      <th>í•˜ë°±ì˜ ì‹ ë¶€ 14</th>\n",
       "      <th>Mi-Kyung Yun</th>\n",
       "      <td>í•˜ë°±ì€ ë¬´ë¦¬ì˜ í¬ìƒìœ¼ë¡œ ì¸ê°„ì—ê²Œ ...</td>\n",
       "      <td>Sequential Art,Manga,Manga,Manhwa,Romance,Fant...</td>\n",
       "      <td>3.95</td>\n",
       "      <td>432</td>\n",
       "      <td>https://goodreads.com/book/show/13559010-14</td>\n",
       "    </tr>\n",
       "    <tr>\n",
       "      <th>í•˜ë°±ì˜ ì‹ ë¶€ 15</th>\n",
       "      <th>Mi-Kyung Yun</th>\n",
       "      <td>ì‹ ì˜ íž˜ì„ ìžƒê³  ì¸ê°„ì´ ëœ í•˜ë°±ì€ ì...</td>\n",
       "      <td>Sequential Art,Manga,Manga,Manhwa,Romance,Fant...</td>\n",
       "      <td>3.92</td>\n",
       "      <td>393</td>\n",
       "      <td>https://goodreads.com/book/show/13559031-15</td>\n",
       "    </tr>\n",
       "    <tr>\n",
       "      <th>ï¿½ber Remedies: Homeopathic Medicines to Cure a Sick Planet, Volume I</th>\n",
       "      <th>Robert Lee Dalp</th>\n",
       "      <td>Dr. Robert Lee Dalpï¿½'s first groundbreaking ...</td>\n",
       "      <td>Not Provided</td>\n",
       "      <td>0.00</td>\n",
       "      <td>0</td>\n",
       "      <td>https://goodreads.com/book/show/13731034-ber-r...</td>\n",
       "    </tr>\n",
       "  </tbody>\n",
       "</table>\n",
       "<p>99907 rows × 5 columns</p>\n",
       "</div>"
      ],
      "text/plain": [
       "                                                                                                                                                 desc  \\\n",
       "title                                              author                                                                                               \n",
       "\"Any Grooming Hints for Your Fans, Rollie?\"        G.B. Trudeau                                                                          Not Provided   \n",
       "\"Daisuki.\"                                         Hildred Billings                                 Aiko and Reina have been together for almost 2...   \n",
       "\"Dark Pictures\" and Other Stories                  Hiroshi Noma                                     The short stories that Noma Hiroshi produced i...   \n",
       "\"Defects\": Engendering the Modern Body             Helen Elizabeth Deutsch,Helen Elizabeth Deutsch  \"Defects\", brings together essays on the emerg...   \n",
       "\"Financial Times\" Mastering Marketing              Tim Dickson                                      The ultimate book for anyone involved or belie...   \n",
       "...                                                                                                                                               ...   \n",
       "íí‹°ë³´ì´ 7                                     Mi-Ri Hwang                                                                           Not Provided   \n",
       "íí‹°ë³´ì´ 8                                     Mi-Ri Hwang                                                                           Not Provided   \n",
       "í•˜ë°±ì˜ ì‹ ë¶€ 14                                Mi-Kyung Yun                                     í•˜ë°±ì€ ë¬´ë¦¬ì˜ í¬ìƒìœ¼ë¡œ ì¸ê°„ì—ê²Œ ...   \n",
       "í•˜ë°±ì˜ ì‹ ë¶€ 15                                Mi-Kyung Yun                                     ì‹ ì˜ íž˜ì„ ìžƒê³  ì¸ê°„ì´ ëœ í•˜ë°±ì€ ì...   \n",
       "ï¿½ber Remedies: Homeopathic Medicines to Cure ... Robert Lee Dalp                                  Dr. Robert Lee Dalpï¿½'s first groundbreaking ...   \n",
       "\n",
       "                                                                                                                                                genre  \\\n",
       "title                                              author                                                                                               \n",
       "\"Any Grooming Hints for Your Fans, Rollie?\"        G.B. Trudeau                                     Humor,Sequential Art,Comics,Sequential Art,Car...   \n",
       "\"Daisuki.\"                                         Hildred Billings                                 LGBT,Lesbian,Adult Fiction,Erotica,LGBT,Adult,...   \n",
       "\"Dark Pictures\" and Other Stories                  Hiroshi Noma                                     Asian Literature,Japanese Literature,Fiction,C...   \n",
       "\"Defects\": Engendering the Modern Body             Helen Elizabeth Deutsch,Helen Elizabeth Deutsch                                         Disability   \n",
       "\"Financial Times\" Mastering Marketing              Tim Dickson                                                                           Not Provided   \n",
       "...                                                                                                                                               ...   \n",
       "íí‹°ë³´ì´ 7                                     Mi-Ri Hwang                                      Sequential Art,Manga,Manga,Manhwa,Romance,Mang...   \n",
       "íí‹°ë³´ì´ 8                                     Mi-Ri Hwang                                      Sequential Art,Manga,Manga,Manhwa,Romance,Mang...   \n",
       "í•˜ë°±ì˜ ì‹ ë¶€ 14                                Mi-Kyung Yun                                     Sequential Art,Manga,Manga,Manhwa,Romance,Fant...   \n",
       "í•˜ë°±ì˜ ì‹ ë¶€ 15                                Mi-Kyung Yun                                     Sequential Art,Manga,Manga,Manhwa,Romance,Fant...   \n",
       "ï¿½ber Remedies: Homeopathic Medicines to Cure ... Robert Lee Dalp                                                                       Not Provided   \n",
       "\n",
       "                                                                                                    rating  \\\n",
       "title                                              author                                                    \n",
       "\"Any Grooming Hints for Your Fans, Rollie?\"        G.B. Trudeau                                       4.00   \n",
       "\"Daisuki.\"                                         Hildred Billings                                   3.77   \n",
       "\"Dark Pictures\" and Other Stories                  Hiroshi Noma                                       3.60   \n",
       "\"Defects\": Engendering the Modern Body             Helen Elizabeth Deutsch,Helen Elizabeth Deutsch    4.50   \n",
       "\"Financial Times\" Mastering Marketing              Tim Dickson                                        3.00   \n",
       "...                                                                                                    ...   \n",
       "íí‹°ë³´ì´ 7                                     Mi-Ri Hwang                                        3.87   \n",
       "íí‹°ë³´ì´ 8                                     Mi-Ri Hwang                                        3.87   \n",
       "í•˜ë°±ì˜ ì‹ ë¶€ 14                                Mi-Kyung Yun                                       3.95   \n",
       "í•˜ë°±ì˜ ì‹ ë¶€ 15                                Mi-Kyung Yun                                       3.92   \n",
       "ï¿½ber Remedies: Homeopathic Medicines to Cure ... Robert Lee Dalp                                    0.00   \n",
       "\n",
       "                                                                                                    totalratings  \\\n",
       "title                                              author                                                          \n",
       "\"Any Grooming Hints for Your Fans, Rollie?\"        G.B. Trudeau                                               77   \n",
       "\"Daisuki.\"                                         Hildred Billings                                           73   \n",
       "\"Dark Pictures\" and Other Stories                  Hiroshi Noma                                               10   \n",
       "\"Defects\": Engendering the Modern Body             Helen Elizabeth Deutsch,Helen Elizabeth Deutsch             4   \n",
       "\"Financial Times\" Mastering Marketing              Tim Dickson                                                 5   \n",
       "...                                                                                                          ...   \n",
       "íí‹°ë³´ì´ 7                                     Mi-Ri Hwang                                               134   \n",
       "íí‹°ë³´ì´ 8                                     Mi-Ri Hwang                                               133   \n",
       "í•˜ë°±ì˜ ì‹ ë¶€ 14                                Mi-Kyung Yun                                              432   \n",
       "í•˜ë°±ì˜ ì‹ ë¶€ 15                                Mi-Kyung Yun                                              393   \n",
       "ï¿½ber Remedies: Homeopathic Medicines to Cure ... Robert Lee Dalp                                             0   \n",
       "\n",
       "                                                                                                                                                 link  \n",
       "title                                              author                                                                                              \n",
       "\"Any Grooming Hints for Your Fans, Rollie?\"        G.B. Trudeau                                     https://goodreads.com/book/show/1118756._Any_G...  \n",
       "\"Daisuki.\"                                         Hildred Billings                                  https://goodreads.com/book/show/17183771-daisuki  \n",
       "\"Dark Pictures\" and Other Stories                  Hiroshi Noma                                     https://goodreads.com/book/show/1128118._Dark_...  \n",
       "\"Defects\": Engendering the Modern Body             Helen Elizabeth Deutsch,Helen Elizabeth Deutsch  https://goodreads.com/book/show/1304197._Defects_  \n",
       "\"Financial Times\" Mastering Marketing              Tim Dickson                                      https://goodreads.com/book/show/1606558._Finan...  \n",
       "...                                                                                                                                               ...  \n",
       "íí‹°ë³´ì´ 7                                     Mi-Ri Hwang                                             https://goodreads.com/book/show/11513269-7  \n",
       "íí‹°ë³´ì´ 8                                     Mi-Ri Hwang                                             https://goodreads.com/book/show/11513302-8  \n",
       "í•˜ë°±ì˜ ì‹ ë¶€ 14                                Mi-Kyung Yun                                           https://goodreads.com/book/show/13559010-14  \n",
       "í•˜ë°±ì˜ ì‹ ë¶€ 15                                Mi-Kyung Yun                                           https://goodreads.com/book/show/13559031-15  \n",
       "ï¿½ber Remedies: Homeopathic Medicines to Cure ... Robert Lee Dalp                                  https://goodreads.com/book/show/13731034-ber-r...  \n",
       "\n",
       "[99907 rows x 5 columns]"
      ]
     },
     "execution_count": 15,
     "metadata": {},
     "output_type": "execute_result"
    }
   ],
   "source": [
    "#want to look at multiple entries with the same title, check if they have the same author\n",
    "#groupby may be a good choice\n",
    "groupedtitle = book_rategen.groupby(['title', 'author'])\n",
    "groupedtitle.first()"
   ]
  },
  {
   "cell_type": "code",
   "execution_count": 17,
   "id": "347fddf7",
   "metadata": {},
   "outputs": [],
   "source": [
    "#only one missing title, up to 10% missing genre which is ok\n",
    "#investigate features and do correlations "
   ]
  },
  {
   "cell_type": "code",
   "execution_count": 16,
   "id": "0e448820",
   "metadata": {},
   "outputs": [
    {
     "data": {
      "text/plain": [
       "count    9.999900e+04\n",
       "mean     2.990794e+03\n",
       "std      3.635356e+04\n",
       "min      0.000000e+00\n",
       "25%      3.100000e+01\n",
       "50%      1.460000e+02\n",
       "75%      7.440000e+02\n",
       "max      3.819326e+06\n",
       "Name: totalratings, dtype: float64"
      ]
     },
     "execution_count": 16,
     "metadata": {},
     "output_type": "execute_result"
    }
   ],
   "source": [
    "#checking variables\n",
    "book_rategen['totalratings'].describe()\n"
   ]
  },
  {
   "cell_type": "code",
   "execution_count": 17,
   "id": "8bb2a15e",
   "metadata": {},
   "outputs": [
    {
     "data": {
      "text/plain": [
       "count    99999.000000\n",
       "mean         3.833060\n",
       "std          0.621239\n",
       "min          0.000000\n",
       "25%          3.660000\n",
       "50%          3.910000\n",
       "75%          4.140000\n",
       "max          5.000000\n",
       "Name: rating, dtype: float64"
      ]
     },
     "execution_count": 17,
     "metadata": {},
     "output_type": "execute_result"
    }
   ],
   "source": [
    "book_rategen['rating'].describe()"
   ]
  },
  {
   "cell_type": "code",
   "execution_count": 18,
   "id": "6517cddb",
   "metadata": {},
   "outputs": [
    {
     "data": {
      "text/plain": [
       "totalratings\n",
       "1         1797\n",
       "0         1562\n",
       "2         1548\n",
       "3         1305\n",
       "4         1184\n",
       "          ... \n",
       "6561         1\n",
       "233585       1\n",
       "4825         1\n",
       "14879        1\n",
       "11462        1\n",
       "Name: count, Length: 10536, dtype: int64"
      ]
     },
     "execution_count": 18,
     "metadata": {},
     "output_type": "execute_result"
    }
   ],
   "source": [
    "book_rategen.totalratings.value_counts()"
   ]
  },
  {
   "cell_type": "code",
   "execution_count": 19,
   "id": "f4701955",
   "metadata": {},
   "outputs": [
    {
     "data": {
      "text/plain": [
       "rating\n",
       "4.00    3621\n",
       "0.00    1562\n",
       "3.67    1248\n",
       "3.75    1224\n",
       "3.80    1186\n",
       "        ... \n",
       "2.52       1\n",
       "2.39       1\n",
       "2.31       1\n",
       "4.95       1\n",
       "1.68       1\n",
       "Name: count, Length: 289, dtype: int64"
      ]
     },
     "execution_count": 19,
     "metadata": {},
     "output_type": "execute_result"
    }
   ],
   "source": [
    "book_rategen.rating.value_counts()"
   ]
  },
  {
   "cell_type": "code",
   "execution_count": 20,
   "id": "2aef44a5",
   "metadata": {},
   "outputs": [
    {
     "data": {
      "text/plain": [
       "0.025135114601296787"
      ]
     },
     "execution_count": 20,
     "metadata": {},
     "output_type": "execute_result"
    }
   ],
   "source": [
    "#corralation of the numerical data we have\n",
    "book_rategen['totalratings'].corr(book_rategen['rating'])"
   ]
  },
  {
   "cell_type": "code",
   "execution_count": 21,
   "id": "727e16c8",
   "metadata": {},
   "outputs": [
    {
     "name": "stderr",
     "output_type": "stream",
     "text": [
      "C:\\Users\\hmkfs\\anaconda3\\Lib\\site-packages\\seaborn\\axisgrid.py:118: UserWarning: The figure layout has changed to tight\n",
      "  self._figure.tight_layout(*args, **kwargs)\n"
     ]
    },
    {
     "data": {
      "text/plain": [
       "<seaborn.axisgrid.PairGrid at 0x221a5eef290>"
      ]
     },
     "execution_count": 21,
     "metadata": {},
     "output_type": "execute_result"
    },
    {
     "data": {
      "image/png": "[encoded data removed]",
      "text/plain": [
       "<Figure size 500x500 with 6 Axes>"
      ]
     },
     "metadata": {},
     "output_type": "display_data"
    }
   ],
   "source": [
    "sns.pairplot(book_rategen)"
   ]
  },
  {
   "cell_type": "code",
   "execution_count": 22,
   "id": "ab7ed48a",
   "metadata": {},
   "outputs": [
    {
     "data": {
      "text/plain": [
       "<Axes: xlabel='rating', ylabel='totalratings'>"
      ]
     },
     "execution_count": 22,
     "metadata": {},
     "output_type": "execute_result"
    },
    {
     "data": {
      "image/png": "[encoded data removed]",
      "text/plain": [
       "<Figure size 640x480 with 1 Axes>"
      ]
     },
     "metadata": {},
     "output_type": "display_data"
    }
   ],
   "source": [
    "sns.scatterplot(data=book_rategen, x='rating', y='totalratings')"
   ]
  },
  {
   "cell_type": "code",
   "execution_count": 23,
   "id": "921cd04b",
   "metadata": {},
   "outputs": [
    {
     "data": {
      "text/plain": [
       "<Axes: xlabel='rating', ylabel='totalratings'>"
      ]
     },
     "execution_count": 23,
     "metadata": {},
     "output_type": "execute_result"
    },
    {
     "data": {
      "image/png": "[encoded data removed]",
      "text/plain": [
       "<Figure size 640x480 with 1 Axes>"
      ]
     },
     "metadata": {},
     "output_type": "display_data"
    }
   ],
   "source": [
    "sns.regplot(data=book_rategen, x='rating', y='totalratings')"
   ]
  },
  {
   "cell_type": "code",
   "execution_count": 24,
   "id": "7720543b",
   "metadata": {},
   "outputs": [
    {
     "name": "stdout",
     "output_type": "stream",
     "text": [
      "94628    0.0\n",
      "93541    0.0\n",
      "73234    0.0\n",
      "73221    0.0\n",
      "93528    0.0\n",
      "        ... \n",
      "39241    5.0\n",
      "81251    5.0\n",
      "53055    5.0\n",
      "72989    5.0\n",
      "68785    5.0\n",
      "Name: rating, Length: 99999, dtype: float64\n",
      "rating\n",
      "4.00    3621\n",
      "0.00    1562\n",
      "3.67    1248\n",
      "3.75    1224\n",
      "3.80    1186\n",
      "        ... \n",
      "2.30       1\n",
      "2.31       1\n",
      "2.36       1\n",
      "2.37       1\n",
      "2.52       1\n",
      "Name: count, Length: 289, dtype: int64\n"
     ]
    }
   ],
   "source": [
    "#looks like we may need top clean up those low ratings\n",
    "low_ratings=book_rategen.rating.sort_values()\n",
    "print(low_ratings)\n",
    "print(low_ratings.value_counts())"
   ]
  },
  {
   "cell_type": "code",
   "execution_count": 25,
   "id": "e32f3179",
   "metadata": {},
   "outputs": [
    {
     "name": "stdout",
     "output_type": "stream",
     "text": [
      "totalratings\n",
      "1          1797\n",
      "0          1562\n",
      "2          1548\n",
      "3          1305\n",
      "4          1184\n",
      "           ... \n",
      "8915          1\n",
      "8910          1\n",
      "8909          1\n",
      "8907          1\n",
      "3819326       1\n",
      "Name: count, Length: 10536, dtype: int64\n",
      "33485          0\n",
      "39833          0\n",
      "39717          0\n",
      "71899          0\n",
      "17832          0\n",
      "          ...   \n",
      "81236    2934616\n",
      "94942    2938072\n",
      "57742    2984351\n",
      "49695    3099689\n",
      "27180    3819326\n",
      "Name: totalratings, Length: 99999, dtype: int64\n"
     ]
    }
   ],
   "source": [
    "no_ratings=book_rategen.totalratings.sort_values()\n",
    "print(no_ratings.value_counts())\n",
    "print(no_ratings)"
   ]
  },
  {
   "cell_type": "code",
   "execution_count": 26,
   "id": "22c00568",
   "metadata": {},
   "outputs": [],
   "source": [
    "#remove rating of 0\n",
    "only_ratings=book_rategen.drop(book_rategen[(book_rategen.rating < 1)].index)"
   ]
  },
  {
   "cell_type": "code",
   "execution_count": 27,
   "id": "3fc6e0e2",
   "metadata": {},
   "outputs": [],
   "source": [
    "#remove not ratings\n",
    "only_ratings=only_ratings.drop(only_ratings[(only_ratings.totalratings<1)].index)"
   ]
  },
  {
   "cell_type": "code",
   "execution_count": 28,
   "id": "665bc16c",
   "metadata": {},
   "outputs": [
    {
     "name": "stdout",
     "output_type": "stream",
     "text": [
      "13022    1.0\n",
      "65182    1.0\n",
      "70246    1.0\n",
      "11190    1.0\n",
      "73507    1.0\n",
      "        ... \n",
      "91325    5.0\n",
      "67379    5.0\n",
      "3902     5.0\n",
      "69249    5.0\n",
      "93101    5.0\n",
      "Name: rating, Length: 98437, dtype: float64\n"
     ]
    }
   ],
   "source": [
    "ratingreview=only_ratings.rating.sort_values()\n",
    "print(ratingreview)"
   ]
  },
  {
   "cell_type": "code",
   "execution_count": 29,
   "id": "1439473c",
   "metadata": {},
   "outputs": [
    {
     "name": "stdout",
     "output_type": "stream",
     "text": [
      "72989          1\n",
      "29663          1\n",
      "6742           1\n",
      "80353          1\n",
      "80363          1\n",
      "          ...   \n",
      "81236    2934616\n",
      "94942    2938072\n",
      "57742    2984351\n",
      "49695    3099689\n",
      "27180    3819326\n",
      "Name: totalratings, Length: 98437, dtype: int64\n"
     ]
    }
   ],
   "source": [
    "ratingreview=only_ratings.totalratings.sort_values()\n",
    "print(ratingreview)"
   ]
  },
  {
   "cell_type": "code",
   "execution_count": 30,
   "id": "38d22055",
   "metadata": {},
   "outputs": [
    {
     "data": {
      "text/plain": [
       "0.027146966191135366"
      ]
     },
     "execution_count": 30,
     "metadata": {},
     "output_type": "execute_result"
    }
   ],
   "source": [
    "#rerun above correlations with the adjusted data\n",
    "only_ratings['totalratings'].corr(only_ratings['rating'])"
   ]
  },
  {
   "cell_type": "code",
   "execution_count": 31,
   "id": "ed13c402",
   "metadata": {},
   "outputs": [
    {
     "name": "stderr",
     "output_type": "stream",
     "text": [
      "C:\\Users\\hmkfs\\anaconda3\\Lib\\site-packages\\seaborn\\axisgrid.py:118: UserWarning: The figure layout has changed to tight\n",
      "  self._figure.tight_layout(*args, **kwargs)\n"
     ]
    },
    {
     "data": {
      "text/plain": [
       "<seaborn.axisgrid.PairGrid at 0x221b2136090>"
      ]
     },
     "execution_count": 31,
     "metadata": {},
     "output_type": "execute_result"
    },
    {
     "data": {
      "image/png": "[encoded data removed]",
      "text/plain": [
       "<Figure size 500x500 with 6 Axes>"
      ]
     },
     "metadata": {},
     "output_type": "display_data"
    }
   ],
   "source": [
    "sns.pairplot(only_ratings)"
   ]
  },
  {
   "cell_type": "code",
   "execution_count": 32,
   "id": "ad55cf5d",
   "metadata": {},
   "outputs": [
    {
     "data": {
      "text/plain": [
       "<Axes: xlabel='rating', ylabel='totalratings'>"
      ]
     },
     "execution_count": 32,
     "metadata": {},
     "output_type": "execute_result"
    },
    {
     "data": {
      "image/png": "[encoded data removed]",
      "text/plain": [
       "<Figure size 640x480 with 1 Axes>"
      ]
     },
     "metadata": {},
     "output_type": "display_data"
    }
   ],
   "source": [
    "sns.scatterplot(data=only_ratings, x='rating', y='totalratings')"
   ]
  },
  {
   "cell_type": "code",
   "execution_count": 33,
   "id": "7446a65b",
   "metadata": {},
   "outputs": [
    {
     "data": {
      "text/plain": [
       "<Axes: xlabel='rating', ylabel='totalratings'>"
      ]
     },
     "execution_count": 33,
     "metadata": {},
     "output_type": "execute_result"
    },
    {
     "data": {
      "image/png": "[encoded data removed]",
      "text/plain": [
       "<Figure size 640x480 with 1 Axes>"
      ]
     },
     "metadata": {},
     "output_type": "display_data"
    }
   ],
   "source": [
    "sns.regplot(data=only_ratings, x='rating', y='totalratings')"
   ]
  },
  {
   "cell_type": "code",
   "execution_count": 34,
   "id": "3c794f79",
   "metadata": {},
   "outputs": [
    {
     "name": "stderr",
     "output_type": "stream",
     "text": [
      "C:\\Users\\hmkfs\\anaconda3\\Lib\\site-packages\\seaborn\\axisgrid.py:118: UserWarning: The figure layout has changed to tight\n",
      "  self._figure.tight_layout(*args, **kwargs)\n"
     ]
    },
    {
     "data": {
      "text/plain": [
       "<seaborn.axisgrid.PairGrid at 0x22212e04790>"
      ]
     },
     "execution_count": 34,
     "metadata": {},
     "output_type": "execute_result"
    },
    {
     "data": {
      "image/png": "[encoded data removed]",
      "text/plain": [
       "<Figure size 500x500 with 6 Axes>"
      ]
     },
     "metadata": {},
     "output_type": "display_data"
    }
   ],
   "source": [
    "#review any other possible corralations\n",
    "sns.pairplot(book_rategen)"
   ]
  },
  {
   "cell_type": "code",
   "execution_count": 35,
   "id": "f0944c3e",
   "metadata": {},
   "outputs": [
    {
     "name": "stdout",
     "output_type": "stream",
     "text": [
      "['adult' 'art' 'cultural' 'fantasy' 'fiction' 'historical' 'history'\n",
      " 'literature' 'nonfiction' 'not' 'provided' 'romance' 'science']\n"
     ]
    }
   ],
   "source": [
    "#preprocessing and data training\n",
    "book_rategen['genre']=book_rategen['genre'].str.replace('[^a-zA-Z]',' ')\n",
    "book_rategen['genre']=book_rategen['genre'].str.lower()\n",
    "\n",
    "from sklearn.feature_extraction.text import CountVectorizer\n",
    "\n",
    "cv=CountVectorizer(min_df=0.1, max_df=1.0)\n",
    "cv.fit(book_rategen['genre'])\n",
    "print(cv.get_feature_names_out())\n"
   ]
  },
  {
   "cell_type": "code",
   "execution_count": 36,
   "id": "93450da2",
   "metadata": {},
   "outputs": [
    {
     "name": "stdout",
     "output_type": "stream",
     "text": [
      "(99999, 13)\n"
     ]
    }
   ],
   "source": [
    "cv_transformed=cv.transform(book_rategen['genre'])\n",
    "cv_array=cv_transformed.toarray()\n",
    "print(cv_array.shape)"
   ]
  },
  {
   "cell_type": "code",
   "execution_count": 37,
   "id": "903a4b50",
   "metadata": {},
   "outputs": [
    {
     "data": {
      "text/html": [
       "<div>\n",
       "<style scoped>\n",
       "    .dataframe tbody tr th:only-of-type {\n",
       "        vertical-align: middle;\n",
       "    }\n",
       "\n",
       "    .dataframe tbody tr th {\n",
       "        vertical-align: top;\n",
       "    }\n",
       "\n",
       "    .dataframe thead th {\n",
       "        text-align: right;\n",
       "    }\n",
       "</style>\n",
       "<table border=\"1\" class=\"dataframe\">\n",
       "  <thead>\n",
       "    <tr style=\"text-align: right;\">\n",
       "      <th></th>\n",
       "      <th>40k</th>\n",
       "      <th>40k,audiobook</th>\n",
       "      <th>40k,fantasy,science fiction</th>\n",
       "      <th>40k,fiction,science fiction,fantasy</th>\n",
       "      <th>40k,games,gaming,science fiction,sports and games,games,games,role playing games</th>\n",
       "      <th>40k,science fiction</th>\n",
       "      <th>40k,science fiction,anthologies,fiction,short stories</th>\n",
       "      <th>40k,science fiction,fantasy</th>\n",
       "      <th>40k,science fiction,fantasy,anthologies,fiction</th>\n",
       "      <th>40k,science fiction,fantasy,fiction</th>\n",
       "      <th>...</th>\n",
       "      <th>young adult,womens fiction,chick lit,fiction,romance,contemporary,young adult,teen,young adult,high school,childrens,middle grade,drama,childrens</th>\n",
       "      <th>young adult,womens fiction,chick lit,fiction,romance,young adult,teen,contemporary,young adult,high school,childrens,middle grade,realistic fiction,young adult,young adult contemporary</th>\n",
       "      <th>young adult,womens fiction,chick lit,fiction,romance,young adult,teen,contemporary,young adult,high school,childrens,middle grade,young adult,young adult contemporary,childrens</th>\n",
       "      <th>young adult,womens fiction,chick lit,fiction,young adult,teen,romance,contemporary,young adult,high school,childrens,middle grade,childrens,love</th>\n",
       "      <th>young adult,womens fiction,chick lit,romance,fiction,new york,contemporary,childrens,middle grade,young adult,teen,young adult,high school</th>\n",
       "      <th>young adult,world war ii,holocaust,war,historical,historical fiction,childrens,historical</th>\n",
       "      <th>young adult,young adult paranormal,young adult</th>\n",
       "      <th>young adult,young adult,coming of age,travel,road trip,realistic fiction,humor,cultural,contemporary</th>\n",
       "      <th>young adult,young adult,high school,romance,contemporary,realistic fiction,sociology,abuse,romance,m f romance,young adult,teen,fiction</th>\n",
       "      <th>young adult,young adult,teen,media tie in,tv,fiction,media tie in</th>\n",
       "    </tr>\n",
       "  </thead>\n",
       "  <tbody>\n",
       "    <tr>\n",
       "      <th>0</th>\n",
       "      <td>False</td>\n",
       "      <td>False</td>\n",
       "      <td>False</td>\n",
       "      <td>False</td>\n",
       "      <td>False</td>\n",
       "      <td>False</td>\n",
       "      <td>False</td>\n",
       "      <td>False</td>\n",
       "      <td>False</td>\n",
       "      <td>False</td>\n",
       "      <td>...</td>\n",
       "      <td>False</td>\n",
       "      <td>False</td>\n",
       "      <td>False</td>\n",
       "      <td>False</td>\n",
       "      <td>False</td>\n",
       "      <td>False</td>\n",
       "      <td>False</td>\n",
       "      <td>False</td>\n",
       "      <td>False</td>\n",
       "      <td>False</td>\n",
       "    </tr>\n",
       "    <tr>\n",
       "      <th>1</th>\n",
       "      <td>False</td>\n",
       "      <td>False</td>\n",
       "      <td>False</td>\n",
       "      <td>False</td>\n",
       "      <td>False</td>\n",
       "      <td>False</td>\n",
       "      <td>False</td>\n",
       "      <td>False</td>\n",
       "      <td>False</td>\n",
       "      <td>False</td>\n",
       "      <td>...</td>\n",
       "      <td>False</td>\n",
       "      <td>False</td>\n",
       "      <td>False</td>\n",
       "      <td>False</td>\n",
       "      <td>False</td>\n",
       "      <td>False</td>\n",
       "      <td>False</td>\n",
       "      <td>False</td>\n",
       "      <td>False</td>\n",
       "      <td>False</td>\n",
       "    </tr>\n",
       "    <tr>\n",
       "      <th>2</th>\n",
       "      <td>False</td>\n",
       "      <td>False</td>\n",
       "      <td>False</td>\n",
       "      <td>False</td>\n",
       "      <td>False</td>\n",
       "      <td>False</td>\n",
       "      <td>False</td>\n",
       "      <td>False</td>\n",
       "      <td>False</td>\n",
       "      <td>False</td>\n",
       "      <td>...</td>\n",
       "      <td>False</td>\n",
       "      <td>False</td>\n",
       "      <td>False</td>\n",
       "      <td>False</td>\n",
       "      <td>False</td>\n",
       "      <td>False</td>\n",
       "      <td>False</td>\n",
       "      <td>False</td>\n",
       "      <td>False</td>\n",
       "      <td>False</td>\n",
       "    </tr>\n",
       "    <tr>\n",
       "      <th>3</th>\n",
       "      <td>False</td>\n",
       "      <td>False</td>\n",
       "      <td>False</td>\n",
       "      <td>False</td>\n",
       "      <td>False</td>\n",
       "      <td>False</td>\n",
       "      <td>False</td>\n",
       "      <td>False</td>\n",
       "      <td>False</td>\n",
       "      <td>False</td>\n",
       "      <td>...</td>\n",
       "      <td>False</td>\n",
       "      <td>False</td>\n",
       "      <td>False</td>\n",
       "      <td>False</td>\n",
       "      <td>False</td>\n",
       "      <td>False</td>\n",
       "      <td>False</td>\n",
       "      <td>False</td>\n",
       "      <td>False</td>\n",
       "      <td>False</td>\n",
       "    </tr>\n",
       "    <tr>\n",
       "      <th>4</th>\n",
       "      <td>False</td>\n",
       "      <td>False</td>\n",
       "      <td>False</td>\n",
       "      <td>False</td>\n",
       "      <td>False</td>\n",
       "      <td>False</td>\n",
       "      <td>False</td>\n",
       "      <td>False</td>\n",
       "      <td>False</td>\n",
       "      <td>False</td>\n",
       "      <td>...</td>\n",
       "      <td>False</td>\n",
       "      <td>False</td>\n",
       "      <td>False</td>\n",
       "      <td>False</td>\n",
       "      <td>False</td>\n",
       "      <td>False</td>\n",
       "      <td>False</td>\n",
       "      <td>False</td>\n",
       "      <td>False</td>\n",
       "      <td>False</td>\n",
       "    </tr>\n",
       "  </tbody>\n",
       "</table>\n",
       "<p>5 rows × 72130 columns</p>\n",
       "</div>"
      ],
      "text/plain": [
       "     40k  40k,audiobook  40k,fantasy,science fiction  \\\n",
       "0  False          False                        False   \n",
       "1  False          False                        False   \n",
       "2  False          False                        False   \n",
       "3  False          False                        False   \n",
       "4  False          False                        False   \n",
       "\n",
       "   40k,fiction,science fiction,fantasy  \\\n",
       "0                                False   \n",
       "1                                False   \n",
       "2                                False   \n",
       "3                                False   \n",
       "4                                False   \n",
       "\n",
       "   40k,games,gaming,science fiction,sports and games,games,games,role playing games  \\\n",
       "0                                              False                                  \n",
       "1                                              False                                  \n",
       "2                                              False                                  \n",
       "3                                              False                                  \n",
       "4                                              False                                  \n",
       "\n",
       "   40k,science fiction  40k,science fiction,anthologies,fiction,short stories  \\\n",
       "0                False                                              False       \n",
       "1                False                                              False       \n",
       "2                False                                              False       \n",
       "3                False                                              False       \n",
       "4                False                                              False       \n",
       "\n",
       "   40k,science fiction,fantasy  \\\n",
       "0                        False   \n",
       "1                        False   \n",
       "2                        False   \n",
       "3                        False   \n",
       "4                        False   \n",
       "\n",
       "   40k,science fiction,fantasy,anthologies,fiction  \\\n",
       "0                                            False   \n",
       "1                                            False   \n",
       "2                                            False   \n",
       "3                                            False   \n",
       "4                                            False   \n",
       "\n",
       "   40k,science fiction,fantasy,fiction  ...  \\\n",
       "0                                False  ...   \n",
       "1                                False  ...   \n",
       "2                                False  ...   \n",
       "3                                False  ...   \n",
       "4                                False  ...   \n",
       "\n",
       "   young adult,womens fiction,chick lit,fiction,romance,contemporary,young adult,teen,young adult,high school,childrens,middle grade,drama,childrens  \\\n",
       "0                                              False                                                                                                   \n",
       "1                                              False                                                                                                   \n",
       "2                                              False                                                                                                   \n",
       "3                                              False                                                                                                   \n",
       "4                                              False                                                                                                   \n",
       "\n",
       "   young adult,womens fiction,chick lit,fiction,romance,young adult,teen,contemporary,young adult,high school,childrens,middle grade,realistic fiction,young adult,young adult contemporary  \\\n",
       "0                                              False                                                                                                                                          \n",
       "1                                              False                                                                                                                                          \n",
       "2                                              False                                                                                                                                          \n",
       "3                                              False                                                                                                                                          \n",
       "4                                              False                                                                                                                                          \n",
       "\n",
       "   young adult,womens fiction,chick lit,fiction,romance,young adult,teen,contemporary,young adult,high school,childrens,middle grade,young adult,young adult contemporary,childrens  \\\n",
       "0                                              False                                                                                                                                  \n",
       "1                                              False                                                                                                                                  \n",
       "2                                              False                                                                                                                                  \n",
       "3                                              False                                                                                                                                  \n",
       "4                                              False                                                                                                                                  \n",
       "\n",
       "   young adult,womens fiction,chick lit,fiction,young adult,teen,romance,contemporary,young adult,high school,childrens,middle grade,childrens,love  \\\n",
       "0                                              False                                                                                                  \n",
       "1                                              False                                                                                                  \n",
       "2                                              False                                                                                                  \n",
       "3                                              False                                                                                                  \n",
       "4                                              False                                                                                                  \n",
       "\n",
       "   young adult,womens fiction,chick lit,romance,fiction,new york,contemporary,childrens,middle grade,young adult,teen,young adult,high school  \\\n",
       "0                                              False                                                                                            \n",
       "1                                              False                                                                                            \n",
       "2                                              False                                                                                            \n",
       "3                                              False                                                                                            \n",
       "4                                              False                                                                                            \n",
       "\n",
       "   young adult,world war ii,holocaust,war,historical,historical fiction,childrens,historical  \\\n",
       "0                                              False                                           \n",
       "1                                              False                                           \n",
       "2                                              False                                           \n",
       "3                                              False                                           \n",
       "4                                              False                                           \n",
       "\n",
       "   young adult,young adult paranormal,young adult  \\\n",
       "0                                           False   \n",
       "1                                           False   \n",
       "2                                           False   \n",
       "3                                           False   \n",
       "4                                           False   \n",
       "\n",
       "   young adult,young adult,coming of age,travel,road trip,realistic fiction,humor,cultural,contemporary  \\\n",
       "0                                              False                                                      \n",
       "1                                              False                                                      \n",
       "2                                              False                                                      \n",
       "3                                              False                                                      \n",
       "4                                              False                                                      \n",
       "\n",
       "   young adult,young adult,high school,romance,contemporary,realistic fiction,sociology,abuse,romance,m f romance,young adult,teen,fiction  \\\n",
       "0                                              False                                                                                         \n",
       "1                                              False                                                                                         \n",
       "2                                              False                                                                                         \n",
       "3                                              False                                                                                         \n",
       "4                                              False                                                                                         \n",
       "\n",
       "   young adult,young adult,teen,media tie in,tv,fiction,media tie in  \n",
       "0                                              False                  \n",
       "1                                              False                  \n",
       "2                                              False                  \n",
       "3                                              False                  \n",
       "4                                              False                  \n",
       "\n",
       "[5 rows x 72130 columns]"
      ]
     },
     "execution_count": 37,
     "metadata": {},
     "output_type": "execute_result"
    }
   ],
   "source": [
    "dummy=pd.get_dummies(book_rategen['genre'])\n",
    "dummy.head()"
   ]
  },
  {
   "cell_type": "code",
   "execution_count": 38,
   "id": "b505bbae",
   "metadata": {},
   "outputs": [],
   "source": [
    "from sklearn.preprocessing import StandardScaler, MinMaxScaler\n",
    "\n",
    "scaler=StandardScaler()\n",
    "scaled_df=scaler.fit_transform(book_rategen[['rating']])\n",
    "\n"
   ]
  },
  {
   "cell_type": "code",
   "execution_count": 39,
   "id": "dd16ffc0",
   "metadata": {},
   "outputs": [],
   "source": [
    "from sklearn.model_selection import train_test_split\n",
    "\n",
    "X=book_rategen['rating']\n",
    "y=book_rategen['totalratings']\n",
    "\n",
    "X_train, X_test, y_train, y_test = train_test_split(X,y,random_state=100,test_size=0.25, shuffle=True)"
   ]
  },
  {
   "cell_type": "code",
   "execution_count": 40,
   "id": "f0e16f9e",
   "metadata": {},
   "outputs": [
    {
     "name": "stdout",
     "output_type": "stream",
     "text": [
      "X_train : \n",
      "57881    3.84\n",
      "27230    4.01\n",
      "1921     4.17\n",
      "87573    4.15\n",
      "97191    4.50\n",
      "Name: rating, dtype: float64\n",
      "\n",
      "X_test : \n",
      "79668    3.82\n",
      "83842    3.76\n",
      "57026    3.67\n",
      "53130    4.13\n",
      "32612    3.93\n",
      "Name: rating, dtype: float64\n",
      "\n",
      "y_train : \n",
      "57881     45\n",
      "27230    425\n",
      "1921     441\n",
      "87573    256\n",
      "97191      6\n",
      "Name: totalratings, dtype: int64\n",
      "\n",
      "y_test : \n",
      "79668    102\n",
      "83842     62\n",
      "57026    198\n",
      "53130      8\n",
      "32612    734\n",
      "Name: totalratings, dtype: int64\n"
     ]
    }
   ],
   "source": [
    "print('X_train : ') \n",
    "print(X_train.head()) \n",
    "print('') \n",
    "print('X_test : ') \n",
    "print(X_test.head()) \n",
    "print('') \n",
    "print('y_train : ') \n",
    "print(y_train.head()) \n",
    "print('') \n",
    "print('y_test : ') \n",
    "print(y_test.head())"
   ]
  },
  {
   "cell_type": "code",
   "execution_count": 41,
   "id": "ae58ead7",
   "metadata": {},
   "outputs": [],
   "source": [
    "#build models \n",
    "import warnings\n",
    "warnings.filterwarnings('ignore')\n",
    "from sklearn.preprocessing import LabelEncoder\n",
    "import numpy as np\n",
    "import pandas as pd\n",
    "import lightgbm\n",
    "from bayes_opt import BayesianOptimization\n",
    "from catboost import CatBoostClassifier, cv, Pool"
   ]
  },
  {
   "cell_type": "code",
   "execution_count": 42,
   "id": "1db50265",
   "metadata": {},
   "outputs": [
    {
     "data": {
      "text/plain": [
       "['.git',\n",
       " '.ipynb_checkpoints',\n",
       " 'Capstone 2 Ideas.docx',\n",
       " 'Capstone2.ipynb',\n",
       " 'Dataset',\n",
       " 'GoodReads_100k_books.csv',\n",
       " 'Proposal.docx',\n",
       " 'Proposal.pdf',\n",
       " '~$oposal.docx',\n",
       " '~$pstone 2 Ideas.docx']"
      ]
     },
     "execution_count": 42,
     "metadata": {},
     "output_type": "execute_result"
    }
   ],
   "source": [
    "import os\n",
    "os.listdir()"
   ]
  },
  {
   "cell_type": "code",
   "execution_count": 43,
   "id": "8168f7b2",
   "metadata": {},
   "outputs": [
    {
     "name": "stdout",
     "output_type": "stream",
     "text": [
      "Index(['rating'], dtype='object')\n"
     ]
    }
   ],
   "source": [
    "X_train=pd.DataFrame(X_train)\n",
    "y_train=pd.DataFrame(y_train)\n",
    "print(X_train.columns)"
   ]
  },
  {
   "cell_type": "code",
   "execution_count": 44,
   "id": "c6c46386",
   "metadata": {},
   "outputs": [],
   "source": [
    "\n",
    "categorical_features=['rating']\n",
    "\n",
    "def lgb_eval(num_leaves,max_depth,lambda_l2,lambda_l1,min_child_samples, min_data_in_leaf):\n",
    "    params = {\n",
    "        \"objective\" : \"binary\",\n",
    "        \"metric\" : \"auc\", \n",
    "        'is_unbalance': True,\n",
    "        \"num_leaves\" : int(num_leaves),\n",
    "        \"max_depth\" : int(max_depth),\n",
    "        \"lambda_l2\" : lambda_l2,\n",
    "        \"lambda_l1\" : lambda_l1,\n",
    "        \"num_threads\" : 20,\n",
    "        \"min_child_samples\" : int(min_child_samples),\n",
    "        'min_data_in_leaf': int(min_data_in_leaf),\n",
    "        \"learning_rate\" : 0.03,\n",
    "        \"subsample_freq\" : 5,\n",
    "        \"bagging_seed\" : 42,\n",
    "        \"verbosity\" : -1\n",
    "    }\n",
    "    lgtrain = lightgbm.Dataset(X_train, y_train,categorical_feature=categorical_features)\n",
    "    cv_result = lightgbm.cv(params,\n",
    "                       lgtrain,\n",
    "                       1000,\n",
    "                       stratified=True,\n",
    "                       nfold=3)\n",
    "    return cv_result['valid auc-mean'][-1]"
   ]
  },
  {
   "cell_type": "code",
   "execution_count": 45,
   "id": "99b458e2",
   "metadata": {},
   "outputs": [
    {
     "name": "stdout",
     "output_type": "stream",
     "text": [
      "|   iter    |  target   | lambda_l1 | lambda_l2 | max_depth | min_ch... | min_da... | num_le... |\n",
      "-------------------------------------------------------------------------------------------------\n",
      "| \u001b[0m1        \u001b[0m | \u001b[0m1.0      \u001b[0m | \u001b[0m0.0378   \u001b[0m | \u001b[0m0.03014  \u001b[0m | \u001b[0m16.05    \u001b[0m | \u001b[0m5.233e+03\u001b[0m | \u001b[0m518.0    \u001b[0m | \u001b[0m3.242e+03\u001b[0m |\n",
      "| \u001b[0m2        \u001b[0m | \u001b[0m1.0      \u001b[0m | \u001b[0m0.03931  \u001b[0m | \u001b[0m0.0204   \u001b[0m | \u001b[0m47.66    \u001b[0m | \u001b[0m4.179e+03\u001b[0m | \u001b[0m1.989e+03\u001b[0m | \u001b[0m1.411e+03\u001b[0m |\n",
      "| \u001b[0m3        \u001b[0m | \u001b[0m1.0      \u001b[0m | \u001b[0m0.04104  \u001b[0m | \u001b[0m0.02456  \u001b[0m | \u001b[0m27.45    \u001b[0m | \u001b[0m9.972e+03\u001b[0m | \u001b[0m1.7e+03  \u001b[0m | \u001b[0m160.7    \u001b[0m |\n",
      "| \u001b[0m4        \u001b[0m | \u001b[0m1.0      \u001b[0m | \u001b[0m0.007013 \u001b[0m | \u001b[0m0.04784  \u001b[0m | \u001b[0m27.44    \u001b[0m | \u001b[0m8.213e+03\u001b[0m | \u001b[0m1.863e+03\u001b[0m | \u001b[0m701.6    \u001b[0m |\n",
      "| \u001b[0m5        \u001b[0m | \u001b[0m1.0      \u001b[0m | \u001b[0m0.04756  \u001b[0m | \u001b[0m0.006611 \u001b[0m | \u001b[0m31.04    \u001b[0m | \u001b[0m8.528e+03\u001b[0m | \u001b[0m845.7    \u001b[0m | \u001b[0m2.615e+03\u001b[0m |\n",
      "| \u001b[0m6        \u001b[0m | \u001b[0m1.0      \u001b[0m | \u001b[0m0.02592  \u001b[0m | \u001b[0m0.03427  \u001b[0m | \u001b[0m5.882    \u001b[0m | \u001b[0m8.299e+03\u001b[0m | \u001b[0m855.3    \u001b[0m | \u001b[0m1.129e+03\u001b[0m |\n",
      "| \u001b[0m7        \u001b[0m | \u001b[0m1.0      \u001b[0m | \u001b[0m0.03386  \u001b[0m | \u001b[0m0.04237  \u001b[0m | \u001b[0m26.01    \u001b[0m | \u001b[0m59.62    \u001b[0m | \u001b[0m200.8    \u001b[0m | \u001b[0m53.42    \u001b[0m |\n",
      "=================================================================================================\n"
     ]
    }
   ],
   "source": [
    "lgbBO = BayesianOptimization(lgb_eval, {'num_leaves': (25, 4000),\n",
    "                                                'max_depth': (5, 63),\n",
    "                                                'lambda_l2': (0.0, 0.05),\n",
    "                                                'lambda_l1': (0.0, 0.05),\n",
    "                                                'min_child_samples': (50, 10000),\n",
    "                                                'min_data_in_leaf': (100, 2000)\n",
    "                                                })\n",
    "\n",
    "lgbBO.maximize(n_iter=5, init_points=2)"
   ]
  },
  {
   "cell_type": "code",
   "execution_count": 46,
   "id": "d68b812e",
   "metadata": {},
   "outputs": [
    {
     "data": {
      "text/plain": [
       "{'target': 1.0,\n",
       " 'params': {'lambda_l1': 0.037800322433738535,\n",
       "  'lambda_l2': 0.03014256336206604,\n",
       "  'max_depth': 16.05330511000328,\n",
       "  'min_child_samples': 5233.02640821425,\n",
       "  'min_data_in_leaf': 517.9831154253073,\n",
       "  'num_leaves': 3242.370315407123}}"
      ]
     },
     "execution_count": 46,
     "metadata": {},
     "output_type": "execute_result"
    }
   ],
   "source": [
    "lgbBO.max"
   ]
  },
  {
   "cell_type": "code",
   "execution_count": 47,
   "id": "9ee19b32",
   "metadata": {},
   "outputs": [
    {
     "data": {
      "text/plain": [
       "{'target': 1.0,\n",
       " 'params': {'lambda_l1': 0.037800322433738535,\n",
       "  'lambda_l2': 0.03014256336206604,\n",
       "  'max_depth': 16.05330511000328,\n",
       "  'min_child_samples': 5233.02640821425,\n",
       "  'min_data_in_leaf': 517.9831154253073,\n",
       "  'num_leaves': 3242.370315407123}}"
      ]
     },
     "execution_count": 47,
     "metadata": {},
     "output_type": "execute_result"
    }
   ],
   "source": [
    "lgbBO.res[0]"
   ]
  },
  {
   "cell_type": "code",
   "execution_count": 49,
   "id": "d12b014a",
   "metadata": {},
   "outputs": [],
   "source": [
    "#second model\n",
    "sns.set()\n",
    "random_seed_number=42\n",
    "np.random.seed(random_seed_number)\n",
    "\n",
    "X2=book_rategen.drop('rating', axis=1)\n",
    "X_train2, X_test2, y_train2, y_test2=train_test_split(X2,y, test_size=0.3, random_state=100)"
   ]
  },
  {
   "cell_type": "code",
   "execution_count": 50,
   "id": "618a094c",
   "metadata": {},
   "outputs": [
    {
     "name": "stdout",
     "output_type": "stream",
     "text": [
      "                          title                                  author  \\\n",
      "71947                Felt Craft                          Florence Temko   \n",
      "21641  Third Girl from the Left                        Martha Southgate   \n",
      "82642    Other People's Baggage  Kendel Lynn,Gigi Pandian,Diane Vallere   \n",
      "14736                    Gordon                         Edith Templeton   \n",
      "50978        Shane's Last Stand                       Suzanne Brockmann   \n",
      "\n",
      "                                                    desc  \\\n",
      "71947                                       Not Provided   \n",
      "21641  With ,Third Girl from the Left,, Southgate bri...   \n",
      "82642  Baggage claim can be terminal when a computer ...   \n",
      "14736  Originally written under a pseudonym, this thr...   \n",
      "50978  Meet Shane Laughlin, the hero of bestselling a...   \n",
      "\n",
      "                                                   genre  totalratings  \\\n",
      "71947                                       not provided             0   \n",
      "21641  fiction,cultural,african american,historical,h...           702   \n",
      "82642  mystery,mystery,cozy mystery,fiction,mystery,a...           324   \n",
      "14736  adult fiction,erotica,erotica,bdsm,fiction,adu...           450   \n",
      "50978  romance,romance,romantic suspense,suspense,rom...          1339   \n",
      "\n",
      "                                                    link  \n",
      "71947  https://goodreads.com/book/show/15237779-felt-...  \n",
      "21641  https://goodreads.com/book/show/1144538.Third_...  \n",
      "82642  https://goodreads.com/book/show/15984163-other...  \n",
      "14736     https://goodreads.com/book/show/1099660.Gordon  \n",
      "50978  https://goodreads.com/book/show/13414763-shane...  \n"
     ]
    }
   ],
   "source": [
    "print(X_train2.head())"
   ]
  },
  {
   "cell_type": "code",
   "execution_count": 51,
   "id": "44a9f033",
   "metadata": {
    "scrolled": true
   },
   "outputs": [],
   "source": [
    "from sklearn.linear_model import LinearRegression\n",
    "\n",
    "scaler2 = StandardScaler()\n",
    "if isinstance(X_train2, pd.DataFrame) and 'totalratings' in X_train2.columns:\n",
    "    X_train2 = scaler2.fit_transform(X_train2['totalratings'].values.reshape(-1, 1))\n",
    "if isinstance(X_test2, pd.DataFrame) and 'totalratings' in X_test2.columns:\n",
    "    X_test2 = scaler2.transform(X_test2['totalratings'].values.reshape(-1, 1))\n",
    "\n",
    "model = LinearRegression()\n",
    "model.fit(X_train2, y_train2)\n",
    "\n",
    "predictions = model.predict(X_test2)"
   ]
  },
  {
   "cell_type": "code",
   "execution_count": 52,
   "id": "19def19c",
   "metadata": {},
   "outputs": [],
   "source": [
    "from sklearn.neighbors import KNeighborsClassifier\n",
    "\n",
    "\n",
    "test_scores = []\n",
    "train_scores = []\n",
    "\n",
    "for i in range(1,10):\n",
    "\n",
    "    knn = KNeighborsClassifier(i)\n",
    "    knn.fit(X_train2,y_train2)\n",
    "    \n",
    "    train_scores.append(knn.score(X_train2,y_train2))\n",
    "    test_scores.append(knn.score(X_test2,y_test2))"
   ]
  },
  {
   "cell_type": "code",
   "execution_count": 53,
   "id": "ef60d1bc",
   "metadata": {},
   "outputs": [
    {
     "name": "stdout",
     "output_type": "stream",
     "text": [
      "k\tTrain_scores\tTest_scores\n",
      "1\t 1.00000\t 0.92980\n",
      "2\t 0.96350\t 0.91133\n",
      "3\t 0.94234\t 0.89823\n",
      "4\t 0.92667\t 0.88617\n",
      "5\t 0.91804\t 0.87987\n",
      "6\t 0.90664\t 0.86937\n",
      "7\t 0.90097\t 0.86493\n",
      "8\t 0.89174\t 0.85707\n",
      "9\t 0.88551\t 0.85193\n"
     ]
    }
   ],
   "source": [
    "for i in range(len(test_scores)):\n",
    "    if i == 0:\n",
    "        print('k\\tTrain_scores\\tTest_scores')\n",
    "    print(f'{i+1}\\t{train_scores[i]: .5f}\\t{test_scores[i]: .5f}')"
   ]
  },
  {
   "cell_type": "code",
   "execution_count": 54,
   "id": "0b690768",
   "metadata": {},
   "outputs": [
    {
     "data": {
      "text/plain": [
       "1"
      ]
     },
     "execution_count": 54,
     "metadata": {},
     "output_type": "execute_result"
    }
   ],
   "source": [
    "index_max = max(range(len(train_scores)), key=train_scores.__getitem__)\n",
    "index_max + 1"
   ]
  },
  {
   "cell_type": "code",
   "execution_count": 55,
   "id": "022ab25a",
   "metadata": {},
   "outputs": [
    {
     "data": {
      "text/plain": [
       "1"
      ]
     },
     "execution_count": 55,
     "metadata": {},
     "output_type": "execute_result"
    }
   ],
   "source": [
    "index_max_test = max(range(len(test_scores)), key=test_scores.__getitem__)\n",
    "index_max_test + 1"
   ]
  },
  {
   "cell_type": "code",
   "execution_count": 56,
   "id": "8c8e2929",
   "metadata": {},
   "outputs": [
    {
     "data": {
      "image/png": "[encoded data removed]",
      "text/plain": [
       "<Figure size 1200x500 with 1 Axes>"
      ]
     },
     "metadata": {},
     "output_type": "display_data"
    }
   ],
   "source": [
    "plt.figure(figsize=(12,5))\n",
    "p = sns.lineplot(x=range(1, 10), y=train_scores, marker='*', label='Train Score')\n",
    "p = sns.lineplot(x=range(1, 10), y=test_scores, marker='o', label='Test Score')"
   ]
  },
  {
   "cell_type": "code",
   "execution_count": 57,
   "id": "082e01ba",
   "metadata": {},
   "outputs": [
    {
     "data": {
      "text/plain": [
       "0.9298"
      ]
     },
     "execution_count": 57,
     "metadata": {},
     "output_type": "execute_result"
    }
   ],
   "source": [
    "knn2= KNeighborsClassifier(n_neighbors=1)\n",
    "knn2.fit(X_train2, y_train2)\n",
    "knn2.score(X_test2, y_test2)"
   ]
  },
  {
   "cell_type": "code",
   "execution_count": 58,
   "id": "c8fcd4b8",
   "metadata": {},
   "outputs": [],
   "source": [
    "from sklearn.metrics import confusion_matrix\n",
    "y_pred = knn.predict(X_test2)\n",
    "pl = confusion_matrix(y_test2,y_pred)"
   ]
  },
  {
   "cell_type": "code",
   "execution_count": null,
   "id": "b64df87a",
   "metadata": {},
   "outputs": [
    {
     "ename": "MemoryError",
     "evalue": "",
     "output_type": "error",
     "traceback": [
      "\u001b[1;31m---------------------------------------------------------------------------\u001b[0m",
      "\u001b[1;31mMemoryError\u001b[0m                               Traceback (most recent call last)",
      "Cell \u001b[1;32mIn[60], line 2\u001b[0m\n\u001b[0;32m      1\u001b[0m \u001b[38;5;28;01mfrom\u001b[39;00m \u001b[38;5;21;01msklearn\u001b[39;00m\u001b[38;5;21;01m.\u001b[39;00m\u001b[38;5;21;01mmetrics\u001b[39;00m \u001b[38;5;28;01mimport\u001b[39;00m ConfusionMatrixDisplay\n\u001b[1;32m----> 2\u001b[0m ConfusionMatrixDisplay\u001b[38;5;241m.\u001b[39mfrom_estimator(knn, X_test2, y_test2, cmap\u001b[38;5;241m=\u001b[39m\u001b[38;5;124m'\u001b[39m\u001b[38;5;124mYlGnBu_r\u001b[39m\u001b[38;5;124m'\u001b[39m)\n",
      "File \u001b[1;32m~\\anaconda3\\Lib\\site-packages\\sklearn\\metrics\\_plot\\confusion_matrix.py:322\u001b[0m, in \u001b[0;36mConfusionMatrixDisplay.from_estimator\u001b[1;34m(cls, estimator, X, y, labels, sample_weight, normalize, display_labels, include_values, xticks_rotation, values_format, cmap, ax, colorbar, im_kw, text_kw)\u001b[0m\n\u001b[0;32m    319\u001b[0m     \u001b[38;5;28;01mraise\u001b[39;00m \u001b[38;5;167;01mValueError\u001b[39;00m(\u001b[38;5;124mf\u001b[39m\u001b[38;5;124m\"\u001b[39m\u001b[38;5;132;01m{\u001b[39;00mmethod_name\u001b[38;5;132;01m}\u001b[39;00m\u001b[38;5;124m only supports classifiers\u001b[39m\u001b[38;5;124m\"\u001b[39m)\n\u001b[0;32m    320\u001b[0m y_pred \u001b[38;5;241m=\u001b[39m estimator\u001b[38;5;241m.\u001b[39mpredict(X)\n\u001b[1;32m--> 322\u001b[0m \u001b[38;5;28;01mreturn\u001b[39;00m \u001b[38;5;28mcls\u001b[39m\u001b[38;5;241m.\u001b[39mfrom_predictions(\n\u001b[0;32m    323\u001b[0m     y,\n\u001b[0;32m    324\u001b[0m     y_pred,\n\u001b[0;32m    325\u001b[0m     sample_weight\u001b[38;5;241m=\u001b[39msample_weight,\n\u001b[0;32m    326\u001b[0m     labels\u001b[38;5;241m=\u001b[39mlabels,\n\u001b[0;32m    327\u001b[0m     normalize\u001b[38;5;241m=\u001b[39mnormalize,\n\u001b[0;32m    328\u001b[0m     display_labels\u001b[38;5;241m=\u001b[39mdisplay_labels,\n\u001b[0;32m    329\u001b[0m     include_values\u001b[38;5;241m=\u001b[39minclude_values,\n\u001b[0;32m    330\u001b[0m     cmap\u001b[38;5;241m=\u001b[39mcmap,\n\u001b[0;32m    331\u001b[0m     ax\u001b[38;5;241m=\u001b[39max,\n\u001b[0;32m    332\u001b[0m     xticks_rotation\u001b[38;5;241m=\u001b[39mxticks_rotation,\n\u001b[0;32m    333\u001b[0m     values_format\u001b[38;5;241m=\u001b[39mvalues_format,\n\u001b[0;32m    334\u001b[0m     colorbar\u001b[38;5;241m=\u001b[39mcolorbar,\n\u001b[0;32m    335\u001b[0m     im_kw\u001b[38;5;241m=\u001b[39mim_kw,\n\u001b[0;32m    336\u001b[0m     text_kw\u001b[38;5;241m=\u001b[39mtext_kw,\n\u001b[0;32m    337\u001b[0m )\n",
      "File \u001b[1;32m~\\anaconda3\\Lib\\site-packages\\sklearn\\metrics\\_plot\\confusion_matrix.py:473\u001b[0m, in \u001b[0;36mConfusionMatrixDisplay.from_predictions\u001b[1;34m(cls, y_true, y_pred, labels, sample_weight, normalize, display_labels, include_values, xticks_rotation, values_format, cmap, ax, colorbar, im_kw, text_kw)\u001b[0m\n\u001b[0;32m    463\u001b[0m cm \u001b[38;5;241m=\u001b[39m confusion_matrix(\n\u001b[0;32m    464\u001b[0m     y_true,\n\u001b[0;32m    465\u001b[0m     y_pred,\n\u001b[1;32m   (...)\u001b[0m\n\u001b[0;32m    468\u001b[0m     normalize\u001b[38;5;241m=\u001b[39mnormalize,\n\u001b[0;32m    469\u001b[0m )\n\u001b[0;32m    471\u001b[0m disp \u001b[38;5;241m=\u001b[39m \u001b[38;5;28mcls\u001b[39m(confusion_matrix\u001b[38;5;241m=\u001b[39mcm, display_labels\u001b[38;5;241m=\u001b[39mdisplay_labels)\n\u001b[1;32m--> 473\u001b[0m \u001b[38;5;28;01mreturn\u001b[39;00m disp\u001b[38;5;241m.\u001b[39mplot(\n\u001b[0;32m    474\u001b[0m     include_values\u001b[38;5;241m=\u001b[39minclude_values,\n\u001b[0;32m    475\u001b[0m     cmap\u001b[38;5;241m=\u001b[39mcmap,\n\u001b[0;32m    476\u001b[0m     ax\u001b[38;5;241m=\u001b[39max,\n\u001b[0;32m    477\u001b[0m     xticks_rotation\u001b[38;5;241m=\u001b[39mxticks_rotation,\n\u001b[0;32m    478\u001b[0m     values_format\u001b[38;5;241m=\u001b[39mvalues_format,\n\u001b[0;32m    479\u001b[0m     colorbar\u001b[38;5;241m=\u001b[39mcolorbar,\n\u001b[0;32m    480\u001b[0m     im_kw\u001b[38;5;241m=\u001b[39mim_kw,\n\u001b[0;32m    481\u001b[0m     text_kw\u001b[38;5;241m=\u001b[39mtext_kw,\n\u001b[0;32m    482\u001b[0m )\n",
      "File \u001b[1;32m~\\anaconda3\\Lib\\site-packages\\sklearn\\metrics\\_plot\\confusion_matrix.py:173\u001b[0m, in \u001b[0;36mConfusionMatrixDisplay.plot\u001b[1;34m(self, include_values, cmap, xticks_rotation, values_format, ax, colorbar, im_kw, text_kw)\u001b[0m\n\u001b[0;32m    170\u001b[0m         default_text_kwargs \u001b[38;5;241m=\u001b[39m \u001b[38;5;28mdict\u001b[39m(ha\u001b[38;5;241m=\u001b[39m\u001b[38;5;124m\"\u001b[39m\u001b[38;5;124mcenter\u001b[39m\u001b[38;5;124m\"\u001b[39m, va\u001b[38;5;241m=\u001b[39m\u001b[38;5;124m\"\u001b[39m\u001b[38;5;124mcenter\u001b[39m\u001b[38;5;124m\"\u001b[39m, color\u001b[38;5;241m=\u001b[39mcolor)\n\u001b[0;32m    171\u001b[0m         text_kwargs \u001b[38;5;241m=\u001b[39m {\u001b[38;5;241m*\u001b[39m\u001b[38;5;241m*\u001b[39mdefault_text_kwargs, \u001b[38;5;241m*\u001b[39m\u001b[38;5;241m*\u001b[39mtext_kw}\n\u001b[1;32m--> 173\u001b[0m         \u001b[38;5;28mself\u001b[39m\u001b[38;5;241m.\u001b[39mtext_[i, j] \u001b[38;5;241m=\u001b[39m ax\u001b[38;5;241m.\u001b[39mtext(j, i, text_cm, \u001b[38;5;241m*\u001b[39m\u001b[38;5;241m*\u001b[39mtext_kwargs)\n\u001b[0;32m    175\u001b[0m \u001b[38;5;28;01mif\u001b[39;00m \u001b[38;5;28mself\u001b[39m\u001b[38;5;241m.\u001b[39mdisplay_labels \u001b[38;5;129;01mis\u001b[39;00m \u001b[38;5;28;01mNone\u001b[39;00m:\n\u001b[0;32m    176\u001b[0m     display_labels \u001b[38;5;241m=\u001b[39m np\u001b[38;5;241m.\u001b[39marange(n_classes)\n",
      "File \u001b[1;32m~\\anaconda3\\Lib\\site-packages\\matplotlib\\axes\\_axes.py:689\u001b[0m, in \u001b[0;36mAxes.text\u001b[1;34m(self, x, y, s, fontdict, **kwargs)\u001b[0m\n\u001b[0;32m    628\u001b[0m \u001b[38;5;250m\u001b[39m\u001b[38;5;124;03m\"\"\"\u001b[39;00m\n\u001b[0;32m    629\u001b[0m \u001b[38;5;124;03mAdd text to the Axes.\u001b[39;00m\n\u001b[0;32m    630\u001b[0m \n\u001b[1;32m   (...)\u001b[0m\n\u001b[0;32m    679\u001b[0m \u001b[38;5;124;03m    >>> text(x, y, s, bbox=dict(facecolor='red', alpha=0.5))\u001b[39;00m\n\u001b[0;32m    680\u001b[0m \u001b[38;5;124;03m\"\"\"\u001b[39;00m\n\u001b[0;32m    681\u001b[0m effective_kwargs \u001b[38;5;241m=\u001b[39m {\n\u001b[0;32m    682\u001b[0m     \u001b[38;5;124m'\u001b[39m\u001b[38;5;124mverticalalignment\u001b[39m\u001b[38;5;124m'\u001b[39m: \u001b[38;5;124m'\u001b[39m\u001b[38;5;124mbaseline\u001b[39m\u001b[38;5;124m'\u001b[39m,\n\u001b[0;32m    683\u001b[0m     \u001b[38;5;124m'\u001b[39m\u001b[38;5;124mhorizontalalignment\u001b[39m\u001b[38;5;124m'\u001b[39m: \u001b[38;5;124m'\u001b[39m\u001b[38;5;124mleft\u001b[39m\u001b[38;5;124m'\u001b[39m,\n\u001b[1;32m   (...)\u001b[0m\n\u001b[0;32m    687\u001b[0m     \u001b[38;5;241m*\u001b[39m\u001b[38;5;241m*\u001b[39mkwargs,\n\u001b[0;32m    688\u001b[0m }\n\u001b[1;32m--> 689\u001b[0m t \u001b[38;5;241m=\u001b[39m mtext\u001b[38;5;241m.\u001b[39mText(x, y, text\u001b[38;5;241m=\u001b[39ms, \u001b[38;5;241m*\u001b[39m\u001b[38;5;241m*\u001b[39meffective_kwargs)\n\u001b[0;32m    690\u001b[0m t\u001b[38;5;241m.\u001b[39mset_clip_path(\u001b[38;5;28mself\u001b[39m\u001b[38;5;241m.\u001b[39mpatch)\n\u001b[0;32m    691\u001b[0m \u001b[38;5;28mself\u001b[39m\u001b[38;5;241m.\u001b[39m_add_text(t)\n",
      "File \u001b[1;32m~\\anaconda3\\Lib\\site-packages\\matplotlib\\_api\\deprecation.py:454\u001b[0m, in \u001b[0;36mmake_keyword_only.<locals>.wrapper\u001b[1;34m(*args, **kwargs)\u001b[0m\n\u001b[0;32m    448\u001b[0m \u001b[38;5;28;01mif\u001b[39;00m \u001b[38;5;28mlen\u001b[39m(args) \u001b[38;5;241m>\u001b[39m name_idx:\n\u001b[0;32m    449\u001b[0m     warn_deprecated(\n\u001b[0;32m    450\u001b[0m         since, message\u001b[38;5;241m=\u001b[39m\u001b[38;5;124m\"\u001b[39m\u001b[38;5;124mPassing the \u001b[39m\u001b[38;5;132;01m%(name)s\u001b[39;00m\u001b[38;5;124m \u001b[39m\u001b[38;5;132;01m%(obj_type)s\u001b[39;00m\u001b[38;5;124m \u001b[39m\u001b[38;5;124m\"\u001b[39m\n\u001b[0;32m    451\u001b[0m         \u001b[38;5;124m\"\u001b[39m\u001b[38;5;124mpositionally is deprecated since Matplotlib \u001b[39m\u001b[38;5;132;01m%(since)s\u001b[39;00m\u001b[38;5;124m; the \u001b[39m\u001b[38;5;124m\"\u001b[39m\n\u001b[0;32m    452\u001b[0m         \u001b[38;5;124m\"\u001b[39m\u001b[38;5;124mparameter will become keyword-only \u001b[39m\u001b[38;5;132;01m%(removal)s\u001b[39;00m\u001b[38;5;124m.\u001b[39m\u001b[38;5;124m\"\u001b[39m,\n\u001b[0;32m    453\u001b[0m         name\u001b[38;5;241m=\u001b[39mname, obj_type\u001b[38;5;241m=\u001b[39m\u001b[38;5;124mf\u001b[39m\u001b[38;5;124m\"\u001b[39m\u001b[38;5;124mparameter of \u001b[39m\u001b[38;5;132;01m{\u001b[39;00mfunc\u001b[38;5;241m.\u001b[39m\u001b[38;5;18m__name__\u001b[39m\u001b[38;5;132;01m}\u001b[39;00m\u001b[38;5;124m()\u001b[39m\u001b[38;5;124m\"\u001b[39m)\n\u001b[1;32m--> 454\u001b[0m \u001b[38;5;28;01mreturn\u001b[39;00m func(\u001b[38;5;241m*\u001b[39margs, \u001b[38;5;241m*\u001b[39m\u001b[38;5;241m*\u001b[39mkwargs)\n",
      "File \u001b[1;32m~\\anaconda3\\Lib\\site-packages\\matplotlib\\text.py:168\u001b[0m, in \u001b[0;36mText.__init__\u001b[1;34m(self, x, y, text, color, verticalalignment, horizontalalignment, multialignment, fontproperties, rotation, linespacing, rotation_mode, usetex, wrap, transform_rotates_text, parse_math, **kwargs)\u001b[0m\n\u001b[0;32m    166\u001b[0m \u001b[38;5;28mself\u001b[39m\u001b[38;5;241m.\u001b[39m_x, \u001b[38;5;28mself\u001b[39m\u001b[38;5;241m.\u001b[39m_y \u001b[38;5;241m=\u001b[39m x, y\n\u001b[0;32m    167\u001b[0m \u001b[38;5;28mself\u001b[39m\u001b[38;5;241m.\u001b[39m_text \u001b[38;5;241m=\u001b[39m \u001b[38;5;124m'\u001b[39m\u001b[38;5;124m'\u001b[39m\n\u001b[1;32m--> 168\u001b[0m \u001b[38;5;28mself\u001b[39m\u001b[38;5;241m.\u001b[39m_reset_visual_defaults(\n\u001b[0;32m    169\u001b[0m     text\u001b[38;5;241m=\u001b[39mtext,\n\u001b[0;32m    170\u001b[0m     color\u001b[38;5;241m=\u001b[39mcolor,\n\u001b[0;32m    171\u001b[0m     fontproperties\u001b[38;5;241m=\u001b[39mfontproperties,\n\u001b[0;32m    172\u001b[0m     usetex\u001b[38;5;241m=\u001b[39musetex,\n\u001b[0;32m    173\u001b[0m     parse_math\u001b[38;5;241m=\u001b[39mparse_math,\n\u001b[0;32m    174\u001b[0m     wrap\u001b[38;5;241m=\u001b[39mwrap,\n\u001b[0;32m    175\u001b[0m     verticalalignment\u001b[38;5;241m=\u001b[39mverticalalignment,\n\u001b[0;32m    176\u001b[0m     horizontalalignment\u001b[38;5;241m=\u001b[39mhorizontalalignment,\n\u001b[0;32m    177\u001b[0m     multialignment\u001b[38;5;241m=\u001b[39mmultialignment,\n\u001b[0;32m    178\u001b[0m     rotation\u001b[38;5;241m=\u001b[39mrotation,\n\u001b[0;32m    179\u001b[0m     transform_rotates_text\u001b[38;5;241m=\u001b[39mtransform_rotates_text,\n\u001b[0;32m    180\u001b[0m     linespacing\u001b[38;5;241m=\u001b[39mlinespacing,\n\u001b[0;32m    181\u001b[0m     rotation_mode\u001b[38;5;241m=\u001b[39mrotation_mode,\n\u001b[0;32m    182\u001b[0m )\n\u001b[0;32m    183\u001b[0m \u001b[38;5;28mself\u001b[39m\u001b[38;5;241m.\u001b[39mupdate(kwargs)\n",
      "File \u001b[1;32m~\\anaconda3\\Lib\\site-packages\\matplotlib\\text.py:202\u001b[0m, in \u001b[0;36mText._reset_visual_defaults\u001b[1;34m(self, text, color, fontproperties, usetex, parse_math, wrap, verticalalignment, horizontalalignment, multialignment, rotation, transform_rotates_text, linespacing, rotation_mode)\u001b[0m\n\u001b[0;32m    185\u001b[0m \u001b[38;5;28;01mdef\u001b[39;00m \u001b[38;5;21m_reset_visual_defaults\u001b[39m(\n\u001b[0;32m    186\u001b[0m     \u001b[38;5;28mself\u001b[39m,\n\u001b[0;32m    187\u001b[0m     text\u001b[38;5;241m=\u001b[39m\u001b[38;5;124m'\u001b[39m\u001b[38;5;124m'\u001b[39m,\n\u001b[1;32m   (...)\u001b[0m\n\u001b[0;32m    199\u001b[0m     rotation_mode\u001b[38;5;241m=\u001b[39m\u001b[38;5;28;01mNone\u001b[39;00m,\n\u001b[0;32m    200\u001b[0m ):\n\u001b[0;32m    201\u001b[0m     \u001b[38;5;28mself\u001b[39m\u001b[38;5;241m.\u001b[39mset_text(text)\n\u001b[1;32m--> 202\u001b[0m     \u001b[38;5;28mself\u001b[39m\u001b[38;5;241m.\u001b[39mset_color(\n\u001b[0;32m    203\u001b[0m         color \u001b[38;5;28;01mif\u001b[39;00m color \u001b[38;5;129;01mis\u001b[39;00m \u001b[38;5;129;01mnot\u001b[39;00m \u001b[38;5;28;01mNone\u001b[39;00m \u001b[38;5;28;01melse\u001b[39;00m mpl\u001b[38;5;241m.\u001b[39mrcParams[\u001b[38;5;124m\"\u001b[39m\u001b[38;5;124mtext.color\u001b[39m\u001b[38;5;124m\"\u001b[39m])\n\u001b[0;32m    204\u001b[0m     \u001b[38;5;28mself\u001b[39m\u001b[38;5;241m.\u001b[39mset_fontproperties(fontproperties)\n\u001b[0;32m    205\u001b[0m     \u001b[38;5;28mself\u001b[39m\u001b[38;5;241m.\u001b[39mset_usetex(usetex)\n",
      "File \u001b[1;32m~\\anaconda3\\Lib\\site-packages\\matplotlib\\text.py:997\u001b[0m, in \u001b[0;36mText.set_color\u001b[1;34m(self, color)\u001b[0m\n\u001b[0;32m    995\u001b[0m \u001b[38;5;28;01mif\u001b[39;00m \u001b[38;5;129;01mnot\u001b[39;00m cbook\u001b[38;5;241m.\u001b[39m_str_equal(color, \u001b[38;5;124m\"\u001b[39m\u001b[38;5;124mauto\u001b[39m\u001b[38;5;124m\"\u001b[39m):\n\u001b[0;32m    996\u001b[0m     mpl\u001b[38;5;241m.\u001b[39mcolors\u001b[38;5;241m.\u001b[39m_check_color_like(color\u001b[38;5;241m=\u001b[39mcolor)\n\u001b[1;32m--> 997\u001b[0m \u001b[38;5;28mself\u001b[39m\u001b[38;5;241m.\u001b[39m_color \u001b[38;5;241m=\u001b[39m color\n\u001b[0;32m    998\u001b[0m \u001b[38;5;28mself\u001b[39m\u001b[38;5;241m.\u001b[39mstale \u001b[38;5;241m=\u001b[39m \u001b[38;5;28;01mTrue\u001b[39;00m\n",
      "\u001b[1;31mMemoryError\u001b[0m: "
     ]
    }
   ],
   "source": [
    "from sklearn.metrics import ConfusionMatrixDisplay\n",
    "ConfusionMatrixDisplay.from_estimator(knn, X_test2, y_test2, cmap='YlGnBu_r')"
   ]
  },
  {
   "cell_type": "code",
   "execution_count": null,
   "id": "23338bc2",
   "metadata": {},
   "outputs": [],
   "source": [
    "from sklearn.metrics import confusion_matrix,classification_report\n",
    "# print(confusion_matrix(y_test,y_pred))\n",
    "print(classification_report(y_test2,y_pred))"
   ]
  },
  {
   "cell_type": "code",
   "execution_count": null,
   "id": "b647fbbc",
   "metadata": {},
   "outputs": [],
   "source": [
    "from sklearn.model_selection import GridSearchCV\n",
    "param_grid = {'n_neighbors':np.arange(1,50)}\n",
    "knn = KNeighborsClassifier()\n",
    "knn_cv= GridSearchCV(knn,param_grid,cv=5)\n",
    "knn_cv.fit(X2,y)"
   ]
  },
  {
   "cell_type": "code",
   "execution_count": null,
   "id": "5ce7a1f5",
   "metadata": {},
   "outputs": [],
   "source": [
    "print(\"Best Score:\" + str(knn_cv.best_score_))\n",
    "print(\"Best Parameters: \" + str(knn_cv.best_params_))"
   ]
  },
  {
   "cell_type": "code",
   "execution_count": null,
   "id": "f75177fd",
   "metadata": {},
   "outputs": [],
   "source": [
    "from sklearn.ensemble import RandomForestClassifier\n",
    "param_grid = {'n_neighbors':np.arange(1,50)}\n",
    "rfc = RandomForestClassifier(n_estimators=600)\n",
    "rfc_cv= GridSearchCV(knn,param_grid,cv=5)\n",
    "rfc_cv.fit(X2,y)"
   ]
  },
  {
   "cell_type": "code",
   "execution_count": null,
   "id": "0b0ae310",
   "metadata": {},
   "outputs": [],
   "source": [
    "print(\"Best Score:\" + str(rfc_cv.best_score_))\n",
    "print(\"Best Parameters: \" + str(rfc_cv.best_params_))"
   ]
  },
  {
   "cell_type": "code",
   "execution_count": null,
   "id": "499d03e2",
   "metadata": {},
   "outputs": [],
   "source": []
  }
 ],
 "metadata": {
  "kernelspec": {
   "display_name": "Python 3 (ipykernel)",
   "language": "python",
   "name": "python3"
  },
  "language_info": {
   "codemirror_mode": {
    "name": "ipython",
    "version": 3
   },
   "file_extension": ".py",
   "mimetype": "text/x-python",
   "name": "python",
   "nbconvert_exporter": "python",
   "pygments_lexer": "ipython3",
   "version": "3.11.5"
  }
 },
 "nbformat": 4,
 "nbformat_minor": 5
}
